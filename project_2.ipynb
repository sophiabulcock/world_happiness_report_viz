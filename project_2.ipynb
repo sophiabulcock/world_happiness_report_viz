{
 "cells": [
  {
   "cell_type": "code",
   "execution_count": 2,
   "id": "automotive-contractor",
   "metadata": {},
   "outputs": [],
   "source": [
    "# load the dataset\n",
    "\n",
    "import pandas as pd\n",
    "import numpy as np"
   ]
  },
  {
   "cell_type": "markdown",
   "id": "owned-mount",
   "metadata": {},
   "source": [
    "# Data 550 Project 2\n",
    "###  Sophia Bulcock, Ryan Koenig\n",
    "### 09-02-2021"
   ]
  },
  {
   "source": [
    "## Dataset Description\n",
    "\n",
    "This dataset is composed of six different csv files. Each file represents a \"Happiness\" report for the year, running from 2015 to 2020. The information provided is from the Gallup World Survey (GWP).  For each year various scores are given to each country based on the survey results and a resulting ranking is generated from these scores.  \n",
    "When looking at the indivdual columns of interest for this data set we have:\n",
    "\n",
    "- Country: The name of the country the scores apply to.\n",
    "- Year: The year the report was generated.\n",
    "- Happiness Rank: How that countries score compares to the others for that particular year.\n",
    "- Happiness Score: The national average of responses from the GWP by Cantril ladder questions.\n",
    "\n",
    "Each of the following columns are a bit of a black box as to how they are generated but they are a based upon how much it is thought they impact the happiness score. Adding them all together should give you the happiness score.\n",
    "\n",
    "- Economy (GDP per Capita): How much the countries economy is expected to contribute to the happiness of its populace.\n",
    "- Family: How much the countries family structure is expected to contribute to the happiness of its populace.\n",
    "- Health (Life Expectancy): How much the countries individual's health is expected to contribute to the happiness of its populace.\n",
    "- Freedom: How much the countries percieved freedoms are expected to contribute to the happiness of its populace.\n",
    "- Trust (Government Corruption): How much the countries percieved trust of the government are expected to contribute to the happiness of its populace.\n",
    "- Generosity: How much the countries percieved generosity are expected to contribute to the happiness of its populace.\n",
    "- Dystopia + Residual: Dystopia a comparison to a theoretical worst country so that their is a baseline. It is combined with the residuals or unexplained components to create a positive value.\n",
    "- Social Support: How much the social support available in the country is expected to contribute to the happiness of its populace.\n",
    "\n",
    "For more information see: https://www.kaggle.com/mathurinache/world-happiness-report\n",
    "\n",
    "\n"
   ],
   "cell_type": "markdown",
   "metadata": {}
  },
  {
   "cell_type": "markdown",
   "id": "fatty-defendant",
   "metadata": {},
   "source": [
    "## Exploring the Data Set\n",
    "\n",
    "Lets take a look at the columns of each csv data set."
   ]
  },
  {
   "cell_type": "code",
   "execution_count": 3,
   "id": "statutory-alloy",
   "metadata": {},
   "outputs": [
    {
     "output_type": "stream",
     "name": "stdout",
     "text": [
      "['Country', 'Region', 'Happiness Rank', 'Happiness Score', 'Standard Error', 'Economy (GDP per Capita)', 'Family', 'Health (Life Expectancy)', 'Freedom', 'Trust (Government Corruption)', 'Generosity', 'Dystopia Residual']\n"
     ]
    }
   ],
   "source": [
    "csv2015= pd.read_csv('2015.csv')\n",
    "list2015=list(csv2015.columns.values) \n",
    "print(list2015)"
   ]
  },
  {
   "cell_type": "code",
   "execution_count": 4,
   "id": "color-obligation",
   "metadata": {},
   "outputs": [
    {
     "output_type": "stream",
     "name": "stdout",
     "text": [
      "['Country', 'Region', 'Happiness Rank', 'Happiness Score', 'Lower Confidence Interval', 'Upper Confidence Interval', 'Economy (GDP per Capita)', 'Family', 'Health (Life Expectancy)', 'Freedom', 'Trust (Government Corruption)', 'Generosity', 'Dystopia Residual']\n"
     ]
    }
   ],
   "source": [
    "csv2016=pd.read_csv('2016.csv')\n",
    "list2016=list(csv2016.columns.values) \n",
    "print(list2016)"
   ]
  },
  {
   "cell_type": "code",
   "execution_count": 5,
   "id": "engaged-customer",
   "metadata": {},
   "outputs": [
    {
     "output_type": "stream",
     "name": "stdout",
     "text": [
      "['Country', 'Happiness.Rank', 'Happiness.Score', 'Whisker.high', 'Whisker.low', 'Economy..GDP.per.Capita.', 'Family', 'Health..Life.Expectancy.', 'Freedom', 'Generosity', 'Trust..Government.Corruption.', 'Dystopia.Residual']\n"
     ]
    }
   ],
   "source": [
    "csv2017=pd.read_csv('2017.csv')\n",
    "list2017=list(csv2017.columns.values) \n",
    "print(list2017)"
   ]
  },
  {
   "cell_type": "code",
   "execution_count": 6,
   "id": "confident-broad",
   "metadata": {},
   "outputs": [
    {
     "output_type": "stream",
     "name": "stdout",
     "text": [
      "['Overall rank', 'Country or region', 'Score', 'GDP per capita', 'Social support', 'Healthy life expectancy', 'Freedom to make life choices', 'Generosity', 'Perceptions of corruption']\n"
     ]
    }
   ],
   "source": [
    "csv2018=pd.read_csv('2018.csv')\n",
    "list2018=list(csv2018.columns.values) \n",
    "print(list2018)"
   ]
  },
  {
   "cell_type": "code",
   "execution_count": 7,
   "id": "cathedral-immunology",
   "metadata": {},
   "outputs": [
    {
     "output_type": "stream",
     "name": "stdout",
     "text": [
      "['Overall rank', 'Country or region', 'Score', 'GDP per capita', 'Social support', 'Healthy life expectancy', 'Freedom to make life choices', 'Generosity', 'Perceptions of corruption']\n"
     ]
    }
   ],
   "source": [
    "csv2019=pd.read_csv('2019.csv')\n",
    "list2019=list(csv2019.columns.values) \n",
    "print(list2019)"
   ]
  },
  {
   "cell_type": "code",
   "execution_count": 8,
   "id": "tutorial-kelly",
   "metadata": {},
   "outputs": [
    {
     "output_type": "stream",
     "name": "stdout",
     "text": [
      "['Country name', 'Regional indicator', 'Ladder score', 'Standard error of ladder score', 'upperwhisker', 'lowerwhisker', 'Logged GDP per capita', 'Social support', 'Healthy life expectancy', 'Freedom to make life choices', 'Generosity', 'Perceptions of corruption', 'Ladder score in Dystopia', 'Explained by: Log GDP per capita', 'Explained by: Social support', 'Explained by: Healthy life expectancy', 'Explained by: Freedom to make life choices', 'Explained by: Generosity', 'Explained by: Perceptions of corruption', 'Dystopia + residual']\n"
     ]
    }
   ],
   "source": [
    "csv2020=pd.read_csv('2020.csv')\n",
    "list2020=list(csv2020.columns.values) \n",
    "print(list2020)"
   ]
  },
  {
   "cell_type": "markdown",
   "id": "seasonal-parade",
   "metadata": {},
   "source": [
    "Now lets take a look at the last 5 rows of each data set."
   ]
  },
  {
   "cell_type": "code",
   "execution_count": 9,
   "id": "corresponding-globe",
   "metadata": {},
   "outputs": [
    {
     "output_type": "stream",
     "name": "stdout",
     "text": [
      "     Country                           Region  Happiness Rank  \\\n",
      "153   Rwanda               Sub-Saharan Africa             154   \n",
      "154    Benin               Sub-Saharan Africa             155   \n",
      "155    Syria  Middle East and Northern Africa             156   \n",
      "156  Burundi               Sub-Saharan Africa             157   \n",
      "157     Togo               Sub-Saharan Africa             158   \n",
      "\n",
      "     Happiness Score  Standard Error  Economy (GDP per Capita)   Family  \\\n",
      "153            3.465         0.03464                   0.22208  0.77370   \n",
      "154            3.340         0.03656                   0.28665  0.35386   \n",
      "155            3.006         0.05015                   0.66320  0.47489   \n",
      "156            2.905         0.08658                   0.01530  0.41587   \n",
      "157            2.839         0.06727                   0.20868  0.13995   \n",
      "\n",
      "     Health (Life Expectancy)  Freedom  Trust (Government Corruption)  \\\n",
      "153                   0.42864  0.59201                        0.55191   \n",
      "154                   0.31910  0.48450                        0.08010   \n",
      "155                   0.72193  0.15684                        0.18906   \n",
      "156                   0.22396  0.11850                        0.10062   \n",
      "157                   0.28443  0.36453                        0.10731   \n",
      "\n",
      "     Generosity  Dystopia Residual  \n",
      "153     0.22628            0.67042  \n",
      "154     0.18260            1.63328  \n",
      "155     0.47179            0.32858  \n",
      "156     0.19727            1.83302  \n",
      "157     0.16681            1.56726  \n",
      "         Country                           Region  Happiness Rank  \\\n",
      "152        Benin               Sub-Saharan Africa             153   \n",
      "153  Afghanistan                    Southern Asia             154   \n",
      "154         Togo               Sub-Saharan Africa             155   \n",
      "155        Syria  Middle East and Northern Africa             156   \n",
      "156      Burundi               Sub-Saharan Africa             157   \n",
      "\n",
      "     Happiness Score  Lower Confidence Interval  Upper Confidence Interval  \\\n",
      "152            3.484                      3.404                      3.564   \n",
      "153            3.360                      3.288                      3.432   \n",
      "154            3.303                      3.192                      3.414   \n",
      "155            3.069                      2.936                      3.202   \n",
      "156            2.905                      2.732                      3.078   \n",
      "\n",
      "     Economy (GDP per Capita)   Family  Health (Life Expectancy)  Freedom  \\\n",
      "152                   0.39499  0.10419                   0.21028  0.39747   \n",
      "153                   0.38227  0.11037                   0.17344  0.16430   \n",
      "154                   0.28123  0.00000                   0.24811  0.34678   \n",
      "155                   0.74719  0.14866                   0.62994  0.06912   \n",
      "156                   0.06831  0.23442                   0.15747  0.04320   \n",
      "\n",
      "     Trust (Government Corruption)  Generosity  Dystopia Residual  \n",
      "152                        0.06681     0.20180            2.10812  \n",
      "153                        0.07112     0.31268            2.14558  \n",
      "154                        0.11587     0.17517            2.13540  \n",
      "155                        0.17233     0.48397            0.81789  \n",
      "156                        0.09419     0.20290            2.10404  \n",
      "                      Country  Happiness.Rank  Happiness.Score  Whisker.high  \\\n",
      "150                    Rwanda             151            3.471      3.543030   \n",
      "151                     Syria             152            3.462      3.663669   \n",
      "152                  Tanzania             153            3.349      3.461430   \n",
      "153                   Burundi             154            2.905      3.074690   \n",
      "154  Central African Republic             155            2.693      2.864884   \n",
      "\n",
      "     Whisker.low  Economy..GDP.per.Capita.    Family  \\\n",
      "150     3.398970                  0.368746  0.945707   \n",
      "151     3.260331                  0.777153  0.396103   \n",
      "152     3.236570                  0.511136  1.041990   \n",
      "153     2.735310                  0.091623  0.629794   \n",
      "154     2.521116                  0.000000  0.000000   \n",
      "\n",
      "     Health..Life.Expectancy.   Freedom  Generosity  \\\n",
      "150                  0.326425  0.581844    0.252756   \n",
      "151                  0.500533  0.081539    0.493664   \n",
      "152                  0.364509  0.390018    0.354256   \n",
      "153                  0.151611  0.059901    0.204435   \n",
      "154                  0.018773  0.270842    0.280876   \n",
      "\n",
      "     Trust..Government.Corruption.  Dystopia.Residual  \n",
      "150                       0.455220           0.540061  \n",
      "151                       0.151347           1.061574  \n",
      "152                       0.066035           0.621130  \n",
      "153                       0.084148           1.683024  \n",
      "154                       0.056565           2.066005  \n",
      "     Overall rank         Country or region  Score  GDP per capita  \\\n",
      "151           152                     Yemen  3.355           0.442   \n",
      "152           153                  Tanzania  3.303           0.455   \n",
      "153           154               South Sudan  3.254           0.337   \n",
      "154           155  Central African Republic  3.083           0.024   \n",
      "155           156                   Burundi  2.905           0.091   \n",
      "\n",
      "     Social support  Healthy life expectancy  Freedom to make life choices  \\\n",
      "151           1.073                    0.343                         0.244   \n",
      "152           0.991                    0.381                         0.481   \n",
      "153           0.608                    0.177                         0.112   \n",
      "154           0.000                    0.010                         0.305   \n",
      "155           0.627                    0.145                         0.065   \n",
      "\n",
      "     Generosity  Perceptions of corruption  \n",
      "151       0.083                      0.064  \n",
      "152       0.270                      0.097  \n",
      "153       0.224                      0.106  \n",
      "154       0.218                      0.038  \n",
      "155       0.149                      0.076  \n",
      "     Overall rank         Country or region  Score  GDP per capita  \\\n",
      "151           152                    Rwanda  3.334           0.359   \n",
      "152           153                  Tanzania  3.231           0.476   \n",
      "153           154               Afghanistan  3.203           0.350   \n",
      "154           155  Central African Republic  3.083           0.026   \n",
      "155           156               South Sudan  2.853           0.306   \n",
      "\n",
      "     Social support  Healthy life expectancy  Freedom to make life choices  \\\n",
      "151           0.711                    0.614                         0.555   \n",
      "152           0.885                    0.499                         0.417   \n",
      "153           0.517                    0.361                         0.000   \n",
      "154           0.000                    0.105                         0.225   \n",
      "155           0.575                    0.295                         0.010   \n",
      "\n",
      "     Generosity  Perceptions of corruption  \n",
      "151       0.217                      0.411  \n",
      "152       0.276                      0.147  \n",
      "153       0.158                      0.025  \n",
      "154       0.235                      0.035  \n",
      "155       0.202                      0.091  \n",
      "                 Country name  Regional indicator  Ladder score  \\\n",
      "148  Central African Republic  Sub-Saharan Africa        3.4759   \n",
      "149                    Rwanda  Sub-Saharan Africa        3.3123   \n",
      "150                  Zimbabwe  Sub-Saharan Africa        3.2992   \n",
      "151               South Sudan  Sub-Saharan Africa        2.8166   \n",
      "152               Afghanistan          South Asia        2.5669   \n",
      "\n",
      "     Standard error of ladder score  upperwhisker  lowerwhisker  \\\n",
      "148                        0.115183      3.701658      3.250141   \n",
      "149                        0.052425      3.415053      3.209547   \n",
      "150                        0.058674      3.414202      3.184198   \n",
      "151                        0.107610      3.027516      2.605684   \n",
      "152                        0.031311      2.628270      2.505530   \n",
      "\n",
      "     Logged GDP per capita  Social support  Healthy life expectancy  \\\n",
      "148               6.625160        0.319460                45.200001   \n",
      "149               7.600104        0.540835                61.098846   \n",
      "150               7.865712        0.763093                55.617260   \n",
      "151               7.425360        0.553707                51.000000   \n",
      "152               7.462861        0.470367                52.590000   \n",
      "\n",
      "     Freedom to make life choices  Generosity  Perceptions of corruption  \\\n",
      "148                      0.640881    0.082410                   0.891807   \n",
      "149                      0.900589    0.055484                   0.183541   \n",
      "150                      0.711458   -0.072064                   0.810237   \n",
      "151                      0.451314    0.016519                   0.763417   \n",
      "152                      0.396573   -0.096429                   0.933687   \n",
      "\n",
      "     Ladder score in Dystopia  Explained by: Log GDP per capita  \\\n",
      "148                  1.972317                          0.041072   \n",
      "149                  1.972317                          0.343243   \n",
      "150                  1.972317                          0.425564   \n",
      "151                  1.972317                          0.289083   \n",
      "152                  1.972317                          0.300706   \n",
      "\n",
      "     Explained by: Social support  Explained by: Healthy life expectancy  \\\n",
      "148                      0.000000                               0.000000   \n",
      "149                      0.522876                               0.572383   \n",
      "150                      1.047835                               0.375038   \n",
      "151                      0.553279                               0.208809   \n",
      "152                      0.356434                               0.266052   \n",
      "\n",
      "     Explained by: Freedom to make life choices  Explained by: Generosity  \\\n",
      "148                                    0.292814                  0.253513   \n",
      "149                                    0.604088                  0.235705   \n",
      "150                                    0.377405                  0.151349   \n",
      "151                                    0.065609                  0.209935   \n",
      "152                                    0.000000                  0.135235   \n",
      "\n",
      "     Explained by: Perceptions of corruption  Dystopia + residual  \n",
      "148                                 0.028265             2.860198  \n",
      "149                                 0.485542             0.548445  \n",
      "150                                 0.080929             0.841031  \n",
      "151                                 0.111157             1.378751  \n",
      "152                                 0.001226             1.507236  \n"
     ]
    }
   ],
   "source": [
    "# exploring last 5 rows of each of the data sets\n",
    "\n",
    "print(csv2015.tail())\n",
    "print(csv2016.tail())\n",
    "print(csv2017.tail())\n",
    "print(csv2018.tail())\n",
    "print(csv2019.tail())\n",
    "print(csv2020.tail())"
   ]
  },
  {
   "cell_type": "markdown",
   "id": "latest-pasta",
   "metadata": {},
   "source": [
    "Number of rows in each csv data set."
   ]
  },
  {
   "cell_type": "code",
   "execution_count": 10,
   "id": "enabling-punishment",
   "metadata": {},
   "outputs": [
    {
     "output_type": "stream",
     "name": "stdout",
     "text": [
      "158\n157\n155\n156\n156\n153\n"
     ]
    }
   ],
   "source": [
    "# count number of rows in each data frame\n",
    "\n",
    "print(csv2015.shape[0])\n",
    "print(csv2016.shape[0])\n",
    "print(csv2017.shape[0])\n",
    "print(csv2018.shape[0])\n",
    "print(csv2019.shape[0])\n",
    "print(csv2020.shape[0])\n"
   ]
  },
  {
   "cell_type": "markdown",
   "id": "meaningful-meaning",
   "metadata": {},
   "source": [
    "Lets verify that all the numbers columns are numeric."
   ]
  },
  {
   "cell_type": "code",
   "execution_count": 11,
   "id": "flush-lawsuit",
   "metadata": {},
   "outputs": [
    {
     "output_type": "stream",
     "name": "stdout",
     "text": [
      "Country                           object\n",
      "Region                            object\n",
      "Happiness Rank                     int64\n",
      "Happiness Score                  float64\n",
      "Standard Error                   float64\n",
      "Economy (GDP per Capita)         float64\n",
      "Family                           float64\n",
      "Health (Life Expectancy)         float64\n",
      "Freedom                          float64\n",
      "Trust (Government Corruption)    float64\n",
      "Generosity                       float64\n",
      "Dystopia Residual                float64\n",
      "dtype: object\n",
      "Country                           object\n",
      "Region                            object\n",
      "Happiness Rank                     int64\n",
      "Happiness Score                  float64\n",
      "Lower Confidence Interval        float64\n",
      "Upper Confidence Interval        float64\n",
      "Economy (GDP per Capita)         float64\n",
      "Family                           float64\n",
      "Health (Life Expectancy)         float64\n",
      "Freedom                          float64\n",
      "Trust (Government Corruption)    float64\n",
      "Generosity                       float64\n",
      "Dystopia Residual                float64\n",
      "dtype: object\n",
      "Country                           object\n",
      "Happiness.Rank                     int64\n",
      "Happiness.Score                  float64\n",
      "Whisker.high                     float64\n",
      "Whisker.low                      float64\n",
      "Economy..GDP.per.Capita.         float64\n",
      "Family                           float64\n",
      "Health..Life.Expectancy.         float64\n",
      "Freedom                          float64\n",
      "Generosity                       float64\n",
      "Trust..Government.Corruption.    float64\n",
      "Dystopia.Residual                float64\n",
      "dtype: object\n",
      "Overall rank                      int64\n",
      "Country or region                object\n",
      "Score                           float64\n",
      "GDP per capita                  float64\n",
      "Social support                  float64\n",
      "Healthy life expectancy         float64\n",
      "Freedom to make life choices    float64\n",
      "Generosity                      float64\n",
      "Perceptions of corruption       float64\n",
      "dtype: object\n",
      "Overall rank                      int64\n",
      "Country or region                object\n",
      "Score                           float64\n",
      "GDP per capita                  float64\n",
      "Social support                  float64\n",
      "Healthy life expectancy         float64\n",
      "Freedom to make life choices    float64\n",
      "Generosity                      float64\n",
      "Perceptions of corruption       float64\n",
      "dtype: object\n",
      "Country name                                   object\n",
      "Regional indicator                             object\n",
      "Ladder score                                  float64\n",
      "Standard error of ladder score                float64\n",
      "upperwhisker                                  float64\n",
      "lowerwhisker                                  float64\n",
      "Logged GDP per capita                         float64\n",
      "Social support                                float64\n",
      "Healthy life expectancy                       float64\n",
      "Freedom to make life choices                  float64\n",
      "Generosity                                    float64\n",
      "Perceptions of corruption                     float64\n",
      "Ladder score in Dystopia                      float64\n",
      "Explained by: Log GDP per capita              float64\n",
      "Explained by: Social support                  float64\n",
      "Explained by: Healthy life expectancy         float64\n",
      "Explained by: Freedom to make life choices    float64\n",
      "Explained by: Generosity                      float64\n",
      "Explained by: Perceptions of corruption       float64\n",
      "Dystopia + residual                           float64\n",
      "dtype: object\n"
     ]
    }
   ],
   "source": [
    "# exploring data frame types\n",
    "\n",
    "print(csv2015.dtypes)\n",
    "print(csv2016.dtypes)\n",
    "print(csv2017.dtypes)\n",
    "print(csv2018.dtypes)\n",
    "print(csv2019.dtypes)\n",
    "print(csv2020.dtypes)\n"
   ]
  },
  {
   "cell_type": "markdown",
   "id": "essential-orlando",
   "metadata": {},
   "source": [
    "## Initial Observations\n",
    "\n",
    "1. This data set contains 6 seperate CSV files for the the happiness reports from 2015-2020. \n",
    "2. Each CSV file does not contain the exact same rows. Some have additional columns, and others seem to be missing some columns that other years have. This will be taken care of in the wrangling section where we filter and combine them into 1 large data frame with the a 'Year' column added.\n",
    "3. Each of the 6 individual data frames has approximately the same amount of observations/rows"
   ]
  },
  {
   "cell_type": "markdown",
   "id": "adapted-edmonton",
   "metadata": {},
   "source": [
    "## Research questions\n",
    "\n",
    "1. What elements contribute the most to the top 5 'happiest' countries happiness scores? Does this change or stay the same over the 6 different years?\n",
    "\n",
    "2. Which countries have had the largest increase and decrease in ranking over the last 6 years.\n"
   ]
  },
  {
   "cell_type": "markdown",
   "id": "governing-literature",
   "metadata": {},
   "source": [
    "## Wrangling"
   ]
  },
  {
   "cell_type": "code",
   "execution_count": 12,
   "id": "minus-check",
   "metadata": {},
   "outputs": [],
   "source": [
    "# wrangling into 1 usable data frame\n",
    "\n",
    "# drop columns not needed and found in all data frames\n",
    "csv2015=csv2015.drop(['Region','Standard Error'], axis=1)\n",
    "\n",
    "csv2016=csv2016.drop(['Region'], axis=1)\n",
    "\n",
    "csv2016=csv2016.drop(['Lower Confidence Interval','Upper Confidence Interval'], axis=1)\n",
    "\n",
    "csv2017=csv2017.drop(['Whisker.high', 'Whisker.low'],axis=1)\n",
    "\n",
    "csv2018=csv2018.drop(['Social support'], axis=1)\n",
    "\n",
    "csv2020=csv2020.drop(['Regional indicator','Standard error of ladder score',\n",
    "                     'upperwhisker','lowerwhisker','Ladder score in Dystopia',\n",
    "                     'Explained by: Log GDP per capita','Explained by: Social support',\n",
    "                     'Explained by: Healthy life expectancy','Explained by: Freedom to make life choices',\n",
    "                     'Explained by: Generosity','Explained by: Perceptions of corruption'], axis=1)\n",
    "\n"
   ]
  },
  {
   "cell_type": "code",
   "execution_count": 13,
   "id": "empirical-living",
   "metadata": {},
   "outputs": [],
   "source": [
    "#renaming columns so all data frames share column names\n",
    "csv2017=csv2017.rename(columns={'Happiness.Rank': 'Happiness Rank', \n",
    "                                   'Happiness.Score': 'Happiness Score',\n",
    "                                   'Economy..GDP.per.Capita.':'Economy (GDP per Capita)',\n",
    "                                   'Health..Life.Expectancy.':'Health (Life Expectancy)',\n",
    "                                   'Trust..Government.Corruption.':'Trust (Government Corruption)',\n",
    "                                   'Dystopia.Residual':'Dystopia Residual'})\n",
    "\n",
    "csv2018=csv2018.rename(columns={'Overall rank': 'Happiness Rank','Country or region':'Country',\n",
    "                                'Score':'Happiness Score','GDP per capita':'Economy (GDP per Capita)',\n",
    "                                'Healthy life expectancy':'Health (Life Expectancy)',\n",
    "                                'Freedom to make life choices':'Freedom',\n",
    "                                'Perceptions of corruption':'Trust (Government Corruption)'})\n",
    "\n",
    "csv2019=csv2019.rename(columns={'Overall rank': 'Happiness Rank','Country or region':'Country',\n",
    "                                'Score':'Happiness Score','GDP per capita':'Economy (GDP per Capita)',\n",
    "                                'Healthy life expectancy':'Health (Life Expectancy)',\n",
    "                                'Freedom to make life choices':'Freedom',\n",
    "                                'Trust..Government.Corruption.':'Trust (Government Corruption)',\n",
    "                                'Perceptions of corruption':'Trust (Government Corruption)'})\n",
    "\n",
    "csv2020=csv2020.rename(columns={'Country name':'Country', 'Ladder score':'Happiness Score',\n",
    "                              'Logged GDP per capita':'Economy (GDP per Capita)',\n",
    "                              'Healthy life expectancy':'Health (Life Expectancy)',\n",
    "                               'Freedom to make life choices':'Freedom',\n",
    "                               'Perceptions of corruption':'Trust (Government Corruption)',\n",
    "                               'Dystopia + residual':'Dystopia Residual'\n",
    "                              })                               \n",
    "                                "
   ]
  },
  {
   "cell_type": "code",
   "execution_count": 14,
   "metadata": {},
   "outputs": [
    {
     "output_type": "execute_result",
     "data": {
      "text/plain": [
       "                      Country  Happiness Score  Economy (GDP per Capita)  \\\n",
       "0                     Finland           7.8087                 10.639267   \n",
       "1                     Denmark           7.6456                 10.774001   \n",
       "2                 Switzerland           7.5599                 10.979933   \n",
       "3                     Iceland           7.5045                 10.772559   \n",
       "4                      Norway           7.4880                 11.087804   \n",
       "..                        ...              ...                       ...   \n",
       "148  Central African Republic           3.4759                  6.625160   \n",
       "149                    Rwanda           3.3123                  7.600104   \n",
       "150                  Zimbabwe           3.2992                  7.865712   \n",
       "151               South Sudan           2.8166                  7.425360   \n",
       "152               Afghanistan           2.5669                  7.462861   \n",
       "\n",
       "     Social support  Health (Life Expectancy)   Freedom  Generosity  \\\n",
       "0          0.954330                 71.900825  0.949172   -0.059482   \n",
       "1          0.955991                 72.402504  0.951444    0.066202   \n",
       "2          0.942847                 74.102448  0.921337    0.105911   \n",
       "3          0.974670                 73.000000  0.948892    0.246944   \n",
       "4          0.952487                 73.200783  0.955750    0.134533   \n",
       "..              ...                       ...       ...         ...   \n",
       "148        0.319460                 45.200001  0.640881    0.082410   \n",
       "149        0.540835                 61.098846  0.900589    0.055484   \n",
       "150        0.763093                 55.617260  0.711458   -0.072064   \n",
       "151        0.553707                 51.000000  0.451314    0.016519   \n",
       "152        0.470367                 52.590000  0.396573   -0.096429   \n",
       "\n",
       "     Trust (Government Corruption)  Dystopia Residual  Happiness Rank  \n",
       "0                         0.195445           2.762835               0  \n",
       "1                         0.168489           2.432741               1  \n",
       "2                         0.303728           2.350267               2  \n",
       "3                         0.711710           2.460688               3  \n",
       "4                         0.263218           2.168266               4  \n",
       "..                             ...                ...             ...  \n",
       "148                       0.891807           2.860198             148  \n",
       "149                       0.183541           0.548445             149  \n",
       "150                       0.810237           0.841031             150  \n",
       "151                       0.763417           1.378751             151  \n",
       "152                       0.933687           1.507236             152  \n",
       "\n",
       "[153 rows x 10 columns]"
      ],
      "text/html": "<div>\n<style scoped>\n    .dataframe tbody tr th:only-of-type {\n        vertical-align: middle;\n    }\n\n    .dataframe tbody tr th {\n        vertical-align: top;\n    }\n\n    .dataframe thead th {\n        text-align: right;\n    }\n</style>\n<table border=\"1\" class=\"dataframe\">\n  <thead>\n    <tr style=\"text-align: right;\">\n      <th></th>\n      <th>Country</th>\n      <th>Happiness Score</th>\n      <th>Economy (GDP per Capita)</th>\n      <th>Social support</th>\n      <th>Health (Life Expectancy)</th>\n      <th>Freedom</th>\n      <th>Generosity</th>\n      <th>Trust (Government Corruption)</th>\n      <th>Dystopia Residual</th>\n      <th>Happiness Rank</th>\n    </tr>\n  </thead>\n  <tbody>\n    <tr>\n      <th>0</th>\n      <td>Finland</td>\n      <td>7.8087</td>\n      <td>10.639267</td>\n      <td>0.954330</td>\n      <td>71.900825</td>\n      <td>0.949172</td>\n      <td>-0.059482</td>\n      <td>0.195445</td>\n      <td>2.762835</td>\n      <td>0</td>\n    </tr>\n    <tr>\n      <th>1</th>\n      <td>Denmark</td>\n      <td>7.6456</td>\n      <td>10.774001</td>\n      <td>0.955991</td>\n      <td>72.402504</td>\n      <td>0.951444</td>\n      <td>0.066202</td>\n      <td>0.168489</td>\n      <td>2.432741</td>\n      <td>1</td>\n    </tr>\n    <tr>\n      <th>2</th>\n      <td>Switzerland</td>\n      <td>7.5599</td>\n      <td>10.979933</td>\n      <td>0.942847</td>\n      <td>74.102448</td>\n      <td>0.921337</td>\n      <td>0.105911</td>\n      <td>0.303728</td>\n      <td>2.350267</td>\n      <td>2</td>\n    </tr>\n    <tr>\n      <th>3</th>\n      <td>Iceland</td>\n      <td>7.5045</td>\n      <td>10.772559</td>\n      <td>0.974670</td>\n      <td>73.000000</td>\n      <td>0.948892</td>\n      <td>0.246944</td>\n      <td>0.711710</td>\n      <td>2.460688</td>\n      <td>3</td>\n    </tr>\n    <tr>\n      <th>4</th>\n      <td>Norway</td>\n      <td>7.4880</td>\n      <td>11.087804</td>\n      <td>0.952487</td>\n      <td>73.200783</td>\n      <td>0.955750</td>\n      <td>0.134533</td>\n      <td>0.263218</td>\n      <td>2.168266</td>\n      <td>4</td>\n    </tr>\n    <tr>\n      <th>...</th>\n      <td>...</td>\n      <td>...</td>\n      <td>...</td>\n      <td>...</td>\n      <td>...</td>\n      <td>...</td>\n      <td>...</td>\n      <td>...</td>\n      <td>...</td>\n      <td>...</td>\n    </tr>\n    <tr>\n      <th>148</th>\n      <td>Central African Republic</td>\n      <td>3.4759</td>\n      <td>6.625160</td>\n      <td>0.319460</td>\n      <td>45.200001</td>\n      <td>0.640881</td>\n      <td>0.082410</td>\n      <td>0.891807</td>\n      <td>2.860198</td>\n      <td>148</td>\n    </tr>\n    <tr>\n      <th>149</th>\n      <td>Rwanda</td>\n      <td>3.3123</td>\n      <td>7.600104</td>\n      <td>0.540835</td>\n      <td>61.098846</td>\n      <td>0.900589</td>\n      <td>0.055484</td>\n      <td>0.183541</td>\n      <td>0.548445</td>\n      <td>149</td>\n    </tr>\n    <tr>\n      <th>150</th>\n      <td>Zimbabwe</td>\n      <td>3.2992</td>\n      <td>7.865712</td>\n      <td>0.763093</td>\n      <td>55.617260</td>\n      <td>0.711458</td>\n      <td>-0.072064</td>\n      <td>0.810237</td>\n      <td>0.841031</td>\n      <td>150</td>\n    </tr>\n    <tr>\n      <th>151</th>\n      <td>South Sudan</td>\n      <td>2.8166</td>\n      <td>7.425360</td>\n      <td>0.553707</td>\n      <td>51.000000</td>\n      <td>0.451314</td>\n      <td>0.016519</td>\n      <td>0.763417</td>\n      <td>1.378751</td>\n      <td>151</td>\n    </tr>\n    <tr>\n      <th>152</th>\n      <td>Afghanistan</td>\n      <td>2.5669</td>\n      <td>7.462861</td>\n      <td>0.470367</td>\n      <td>52.590000</td>\n      <td>0.396573</td>\n      <td>-0.096429</td>\n      <td>0.933687</td>\n      <td>1.507236</td>\n      <td>152</td>\n    </tr>\n  </tbody>\n</table>\n<p>153 rows × 10 columns</p>\n</div>"
     },
     "metadata": {},
     "execution_count": 14
    }
   ],
   "source": [
    "# add happiness rank to csv2020\n",
    "\n",
    "csv2020['Happiness Rank']=np.arange(len(csv2020))\n",
    "csv2020"
   ]
  },
  {
   "cell_type": "code",
   "execution_count": 15,
   "id": "iraqi-pizza",
   "metadata": {},
   "outputs": [
    {
     "output_type": "execute_result",
     "data": {
      "text/plain": [
       "                      Country  Happiness Rank  Happiness Score  \\\n",
       "0                 Switzerland               1           7.5870   \n",
       "1                     Iceland               2           7.5610   \n",
       "2                     Denmark               3           7.5270   \n",
       "3                      Norway               4           7.5220   \n",
       "4                      Canada               5           7.4270   \n",
       "..                        ...             ...              ...   \n",
       "148  Central African Republic             148           3.4759   \n",
       "149                    Rwanda             149           3.3123   \n",
       "150                  Zimbabwe             150           3.2992   \n",
       "151               South Sudan             151           2.8166   \n",
       "152               Afghanistan             152           2.5669   \n",
       "\n",
       "     Economy (GDP per Capita)   Family  Health (Life Expectancy)   Freedom  \\\n",
       "0                    1.396510  1.34951                  0.941430  0.665570   \n",
       "1                    1.302320  1.40223                  0.947840  0.628770   \n",
       "2                    1.325480  1.36058                  0.874640  0.649380   \n",
       "3                    1.459000  1.33095                  0.885210  0.669730   \n",
       "4                    1.326290  1.32261                  0.905630  0.632970   \n",
       "..                        ...      ...                       ...       ...   \n",
       "148                  6.625160      NaN                 45.200001  0.640881   \n",
       "149                  7.600104      NaN                 61.098846  0.900589   \n",
       "150                  7.865712      NaN                 55.617260  0.711458   \n",
       "151                  7.425360      NaN                 51.000000  0.451314   \n",
       "152                  7.462861      NaN                 52.590000  0.396573   \n",
       "\n",
       "     Trust (Government Corruption)  Generosity  Dystopia Residual  Year  \\\n",
       "0                         0.419780    0.296780           2.517380  2015   \n",
       "1                         0.141450    0.436300           2.702010  2015   \n",
       "2                         0.483570    0.341390           2.492040  2015   \n",
       "3                         0.365030    0.346990           2.465310  2015   \n",
       "4                         0.329570    0.458110           2.451760  2015   \n",
       "..                             ...         ...                ...   ...   \n",
       "148                       0.891807    0.082410           2.860198  2020   \n",
       "149                       0.183541    0.055484           0.548445  2020   \n",
       "150                       0.810237   -0.072064           0.841031  2020   \n",
       "151                       0.763417    0.016519           1.378751  2020   \n",
       "152                       0.933687   -0.096429           1.507236  2020   \n",
       "\n",
       "     Social support  \n",
       "0               NaN  \n",
       "1               NaN  \n",
       "2               NaN  \n",
       "3               NaN  \n",
       "4               NaN  \n",
       "..              ...  \n",
       "148        0.319460  \n",
       "149        0.540835  \n",
       "150        0.763093  \n",
       "151        0.553707  \n",
       "152        0.470367  \n",
       "\n",
       "[935 rows x 12 columns]"
      ],
      "text/html": "<div>\n<style scoped>\n    .dataframe tbody tr th:only-of-type {\n        vertical-align: middle;\n    }\n\n    .dataframe tbody tr th {\n        vertical-align: top;\n    }\n\n    .dataframe thead th {\n        text-align: right;\n    }\n</style>\n<table border=\"1\" class=\"dataframe\">\n  <thead>\n    <tr style=\"text-align: right;\">\n      <th></th>\n      <th>Country</th>\n      <th>Happiness Rank</th>\n      <th>Happiness Score</th>\n      <th>Economy (GDP per Capita)</th>\n      <th>Family</th>\n      <th>Health (Life Expectancy)</th>\n      <th>Freedom</th>\n      <th>Trust (Government Corruption)</th>\n      <th>Generosity</th>\n      <th>Dystopia Residual</th>\n      <th>Year</th>\n      <th>Social support</th>\n    </tr>\n  </thead>\n  <tbody>\n    <tr>\n      <th>0</th>\n      <td>Switzerland</td>\n      <td>1</td>\n      <td>7.5870</td>\n      <td>1.396510</td>\n      <td>1.34951</td>\n      <td>0.941430</td>\n      <td>0.665570</td>\n      <td>0.419780</td>\n      <td>0.296780</td>\n      <td>2.517380</td>\n      <td>2015</td>\n      <td>NaN</td>\n    </tr>\n    <tr>\n      <th>1</th>\n      <td>Iceland</td>\n      <td>2</td>\n      <td>7.5610</td>\n      <td>1.302320</td>\n      <td>1.40223</td>\n      <td>0.947840</td>\n      <td>0.628770</td>\n      <td>0.141450</td>\n      <td>0.436300</td>\n      <td>2.702010</td>\n      <td>2015</td>\n      <td>NaN</td>\n    </tr>\n    <tr>\n      <th>2</th>\n      <td>Denmark</td>\n      <td>3</td>\n      <td>7.5270</td>\n      <td>1.325480</td>\n      <td>1.36058</td>\n      <td>0.874640</td>\n      <td>0.649380</td>\n      <td>0.483570</td>\n      <td>0.341390</td>\n      <td>2.492040</td>\n      <td>2015</td>\n      <td>NaN</td>\n    </tr>\n    <tr>\n      <th>3</th>\n      <td>Norway</td>\n      <td>4</td>\n      <td>7.5220</td>\n      <td>1.459000</td>\n      <td>1.33095</td>\n      <td>0.885210</td>\n      <td>0.669730</td>\n      <td>0.365030</td>\n      <td>0.346990</td>\n      <td>2.465310</td>\n      <td>2015</td>\n      <td>NaN</td>\n    </tr>\n    <tr>\n      <th>4</th>\n      <td>Canada</td>\n      <td>5</td>\n      <td>7.4270</td>\n      <td>1.326290</td>\n      <td>1.32261</td>\n      <td>0.905630</td>\n      <td>0.632970</td>\n      <td>0.329570</td>\n      <td>0.458110</td>\n      <td>2.451760</td>\n      <td>2015</td>\n      <td>NaN</td>\n    </tr>\n    <tr>\n      <th>...</th>\n      <td>...</td>\n      <td>...</td>\n      <td>...</td>\n      <td>...</td>\n      <td>...</td>\n      <td>...</td>\n      <td>...</td>\n      <td>...</td>\n      <td>...</td>\n      <td>...</td>\n      <td>...</td>\n      <td>...</td>\n    </tr>\n    <tr>\n      <th>148</th>\n      <td>Central African Republic</td>\n      <td>148</td>\n      <td>3.4759</td>\n      <td>6.625160</td>\n      <td>NaN</td>\n      <td>45.200001</td>\n      <td>0.640881</td>\n      <td>0.891807</td>\n      <td>0.082410</td>\n      <td>2.860198</td>\n      <td>2020</td>\n      <td>0.319460</td>\n    </tr>\n    <tr>\n      <th>149</th>\n      <td>Rwanda</td>\n      <td>149</td>\n      <td>3.3123</td>\n      <td>7.600104</td>\n      <td>NaN</td>\n      <td>61.098846</td>\n      <td>0.900589</td>\n      <td>0.183541</td>\n      <td>0.055484</td>\n      <td>0.548445</td>\n      <td>2020</td>\n      <td>0.540835</td>\n    </tr>\n    <tr>\n      <th>150</th>\n      <td>Zimbabwe</td>\n      <td>150</td>\n      <td>3.2992</td>\n      <td>7.865712</td>\n      <td>NaN</td>\n      <td>55.617260</td>\n      <td>0.711458</td>\n      <td>0.810237</td>\n      <td>-0.072064</td>\n      <td>0.841031</td>\n      <td>2020</td>\n      <td>0.763093</td>\n    </tr>\n    <tr>\n      <th>151</th>\n      <td>South Sudan</td>\n      <td>151</td>\n      <td>2.8166</td>\n      <td>7.425360</td>\n      <td>NaN</td>\n      <td>51.000000</td>\n      <td>0.451314</td>\n      <td>0.763417</td>\n      <td>0.016519</td>\n      <td>1.378751</td>\n      <td>2020</td>\n      <td>0.553707</td>\n    </tr>\n    <tr>\n      <th>152</th>\n      <td>Afghanistan</td>\n      <td>152</td>\n      <td>2.5669</td>\n      <td>7.462861</td>\n      <td>NaN</td>\n      <td>52.590000</td>\n      <td>0.396573</td>\n      <td>0.933687</td>\n      <td>-0.096429</td>\n      <td>1.507236</td>\n      <td>2020</td>\n      <td>0.470367</td>\n    </tr>\n  </tbody>\n</table>\n<p>935 rows × 12 columns</p>\n</div>"
     },
     "metadata": {},
     "execution_count": 15
    }
   ],
   "source": [
    "# make into 1 data set\n",
    "\n",
    "\n",
    "csv2015['Year']=2015\n",
    "csv2016['Year']=2016\n",
    "csv2017['Year']=2017\n",
    "csv2018['Year']=2018\n",
    "csv2019['Year']=2019\n",
    "csv2020['Year']=2020\n",
    "\n",
    "frames = [csv2015,csv2016,csv2017,csv2018,csv2019,csv2020]\n",
    "\n",
    "happiness_df = pd.concat(frames)\n",
    "happiness_df"
   ]
  },
  {
   "cell_type": "markdown",
   "id": "automatic-water",
   "metadata": {},
   "source": [
    "Summary description of the data frame's numerical columns"
   ]
  },
  {
   "cell_type": "code",
   "execution_count": 16,
   "id": "wooden-whole",
   "metadata": {},
   "outputs": [
    {
     "output_type": "execute_result",
     "data": {
      "text/plain": [
       "       Happiness Rank  Happiness Score  Economy (GDP per Capita)      Family  \\\n",
       "count      935.000000       935.000000                935.000000  470.000000   \n",
       "mean        78.256684         5.394436                  2.287264    0.990347   \n",
       "std         45.028594         1.124935                  3.161344    0.318707   \n",
       "min          0.000000         2.566900                  0.000000    0.000000   \n",
       "25%         39.000000         4.540000                  0.695145    0.793000   \n",
       "50%         78.000000         5.353500                  1.070000    1.025665   \n",
       "75%        117.000000         6.198500                  1.395705    1.228745   \n",
       "max        158.000000         7.808700                 11.450681    1.610574   \n",
       "\n",
       "       Health (Life Expectancy)     Freedom  Trust (Government Corruption)  \\\n",
       "count                935.000000  935.000000                     934.000000   \n",
       "mean                  11.057834    0.472008                       0.224981   \n",
       "std                   23.799414    0.201962                       0.254946   \n",
       "min                    0.000000    0.000000                       0.000000   \n",
       "25%                    0.508000    0.337772                       0.061039   \n",
       "50%                    0.708060    0.465820                       0.110800   \n",
       "75%                    0.892350    0.585785                       0.285300   \n",
       "max                   76.804581    0.974998                       0.935585   \n",
       "\n",
       "       Generosity  Dystopia Residual         Year  Social support  \n",
       "count  935.000000         623.000000   935.000000      309.000000  \n",
       "mean     0.180425           2.063148  2017.485561        1.010710  \n",
       "std      0.153977           0.567172     1.708260        0.304093  \n",
       "min     -0.300907           0.257241  2015.000000        0.000000  \n",
       "25%      0.098152           1.703152  2016.000000        0.806092  \n",
       "50%      0.183000           2.081786  2017.000000        0.921125  \n",
       "75%      0.262000           2.431136  2019.000000        1.274000  \n",
       "max      0.838075           3.837720  2020.000000        1.624000  "
      ],
      "text/html": "<div>\n<style scoped>\n    .dataframe tbody tr th:only-of-type {\n        vertical-align: middle;\n    }\n\n    .dataframe tbody tr th {\n        vertical-align: top;\n    }\n\n    .dataframe thead th {\n        text-align: right;\n    }\n</style>\n<table border=\"1\" class=\"dataframe\">\n  <thead>\n    <tr style=\"text-align: right;\">\n      <th></th>\n      <th>Happiness Rank</th>\n      <th>Happiness Score</th>\n      <th>Economy (GDP per Capita)</th>\n      <th>Family</th>\n      <th>Health (Life Expectancy)</th>\n      <th>Freedom</th>\n      <th>Trust (Government Corruption)</th>\n      <th>Generosity</th>\n      <th>Dystopia Residual</th>\n      <th>Year</th>\n      <th>Social support</th>\n    </tr>\n  </thead>\n  <tbody>\n    <tr>\n      <th>count</th>\n      <td>935.000000</td>\n      <td>935.000000</td>\n      <td>935.000000</td>\n      <td>470.000000</td>\n      <td>935.000000</td>\n      <td>935.000000</td>\n      <td>934.000000</td>\n      <td>935.000000</td>\n      <td>623.000000</td>\n      <td>935.000000</td>\n      <td>309.000000</td>\n    </tr>\n    <tr>\n      <th>mean</th>\n      <td>78.256684</td>\n      <td>5.394436</td>\n      <td>2.287264</td>\n      <td>0.990347</td>\n      <td>11.057834</td>\n      <td>0.472008</td>\n      <td>0.224981</td>\n      <td>0.180425</td>\n      <td>2.063148</td>\n      <td>2017.485561</td>\n      <td>1.010710</td>\n    </tr>\n    <tr>\n      <th>std</th>\n      <td>45.028594</td>\n      <td>1.124935</td>\n      <td>3.161344</td>\n      <td>0.318707</td>\n      <td>23.799414</td>\n      <td>0.201962</td>\n      <td>0.254946</td>\n      <td>0.153977</td>\n      <td>0.567172</td>\n      <td>1.708260</td>\n      <td>0.304093</td>\n    </tr>\n    <tr>\n      <th>min</th>\n      <td>0.000000</td>\n      <td>2.566900</td>\n      <td>0.000000</td>\n      <td>0.000000</td>\n      <td>0.000000</td>\n      <td>0.000000</td>\n      <td>0.000000</td>\n      <td>-0.300907</td>\n      <td>0.257241</td>\n      <td>2015.000000</td>\n      <td>0.000000</td>\n    </tr>\n    <tr>\n      <th>25%</th>\n      <td>39.000000</td>\n      <td>4.540000</td>\n      <td>0.695145</td>\n      <td>0.793000</td>\n      <td>0.508000</td>\n      <td>0.337772</td>\n      <td>0.061039</td>\n      <td>0.098152</td>\n      <td>1.703152</td>\n      <td>2016.000000</td>\n      <td>0.806092</td>\n    </tr>\n    <tr>\n      <th>50%</th>\n      <td>78.000000</td>\n      <td>5.353500</td>\n      <td>1.070000</td>\n      <td>1.025665</td>\n      <td>0.708060</td>\n      <td>0.465820</td>\n      <td>0.110800</td>\n      <td>0.183000</td>\n      <td>2.081786</td>\n      <td>2017.000000</td>\n      <td>0.921125</td>\n    </tr>\n    <tr>\n      <th>75%</th>\n      <td>117.000000</td>\n      <td>6.198500</td>\n      <td>1.395705</td>\n      <td>1.228745</td>\n      <td>0.892350</td>\n      <td>0.585785</td>\n      <td>0.285300</td>\n      <td>0.262000</td>\n      <td>2.431136</td>\n      <td>2019.000000</td>\n      <td>1.274000</td>\n    </tr>\n    <tr>\n      <th>max</th>\n      <td>158.000000</td>\n      <td>7.808700</td>\n      <td>11.450681</td>\n      <td>1.610574</td>\n      <td>76.804581</td>\n      <td>0.974998</td>\n      <td>0.935585</td>\n      <td>0.838075</td>\n      <td>3.837720</td>\n      <td>2020.000000</td>\n      <td>1.624000</td>\n    </tr>\n  </tbody>\n</table>\n</div>"
     },
     "metadata": {},
     "execution_count": 16
    }
   ],
   "source": [
    "happiness_df.describe(include=None)"
   ]
  },
  {
   "cell_type": "code",
   "execution_count": 17,
   "id": "ranking-eleven",
   "metadata": {},
   "outputs": [
    {
     "output_type": "execute_result",
     "data": {
      "text/plain": [
       "       Country  Happiness Rank  Happiness Score  Economy (GDP per Capita)  \\\n",
       "0  Switzerland               1             7.59                  1.396510   \n",
       "1      Iceland               2             7.56                  1.302320   \n",
       "2      Denmark               3             7.53                  1.325480   \n",
       "3       Norway               4             7.52                  1.459000   \n",
       "4       Canada               5             7.43                  1.326290   \n",
       "0      Denmark               1             7.53                  1.441780   \n",
       "1  Switzerland               2             7.51                  1.527330   \n",
       "2      Iceland               3             7.50                  1.426660   \n",
       "3       Norway               4             7.50                  1.577440   \n",
       "4      Finland               5             7.41                  1.405980   \n",
       "0       Norway               1             7.54                  1.616463   \n",
       "1      Denmark               2             7.52                  1.482383   \n",
       "2      Iceland               3             7.50                  1.480633   \n",
       "3  Switzerland               4             7.49                  1.564980   \n",
       "4      Finland               5             7.47                  1.443572   \n",
       "0      Finland               1             7.63                  1.305000   \n",
       "1       Norway               2             7.59                  1.456000   \n",
       "2      Denmark               3             7.56                  1.351000   \n",
       "3      Iceland               4             7.50                  1.343000   \n",
       "4  Switzerland               5             7.49                  1.420000   \n",
       "0      Finland               1             7.77                  1.340000   \n",
       "1      Denmark               2             7.60                  1.383000   \n",
       "2       Norway               3             7.55                  1.488000   \n",
       "3      Iceland               4             7.49                  1.380000   \n",
       "4  Netherlands               5             7.49                  1.396000   \n",
       "0      Finland               0             7.81                 10.639267   \n",
       "1      Denmark               1             7.65                 10.774001   \n",
       "2  Switzerland               2             7.56                 10.979933   \n",
       "3      Iceland               3             7.50                 10.772559   \n",
       "4       Norway               4             7.49                 11.087804   \n",
       "\n",
       "     Family  Health (Life Expectancy)   Freedom  \\\n",
       "0  1.349510                  0.941430  0.665570   \n",
       "1  1.402230                  0.947840  0.628770   \n",
       "2  1.360580                  0.874640  0.649380   \n",
       "3  1.330950                  0.885210  0.669730   \n",
       "4  1.322610                  0.905630  0.632970   \n",
       "0  1.163740                  0.795040  0.579410   \n",
       "1  1.145240                  0.863030  0.585570   \n",
       "2  1.183260                  0.867330  0.566240   \n",
       "3  1.126900                  0.795790  0.596090   \n",
       "4  1.134640                  0.810910  0.571040   \n",
       "0  1.533524                  0.796667  0.635423   \n",
       "1  1.551122                  0.792566  0.626007   \n",
       "2  1.610574                  0.833552  0.627163   \n",
       "3  1.516912                  0.858131  0.620071   \n",
       "4  1.540247                  0.809158  0.617951   \n",
       "0       NaN                  0.874000  0.681000   \n",
       "1       NaN                  0.861000  0.686000   \n",
       "2       NaN                  0.868000  0.683000   \n",
       "3       NaN                  0.914000  0.677000   \n",
       "4       NaN                  0.927000  0.660000   \n",
       "0       NaN                  0.986000  0.596000   \n",
       "1       NaN                  0.996000  0.592000   \n",
       "2       NaN                  1.028000  0.603000   \n",
       "3       NaN                  1.026000  0.591000   \n",
       "4       NaN                  0.999000  0.557000   \n",
       "0       NaN                 71.900825  0.949172   \n",
       "1       NaN                 72.402504  0.951444   \n",
       "2       NaN                 74.102448  0.921337   \n",
       "3       NaN                 73.000000  0.948892   \n",
       "4       NaN                 73.200783  0.955750   \n",
       "\n",
       "   Trust (Government Corruption)  Generosity  Dystopia Residual  Year  \\\n",
       "0                       0.419780    0.296780           2.517380  2015   \n",
       "1                       0.141450    0.436300           2.702010  2015   \n",
       "2                       0.483570    0.341390           2.492040  2015   \n",
       "3                       0.365030    0.346990           2.465310  2015   \n",
       "4                       0.329570    0.458110           2.451760  2015   \n",
       "0                       0.444530    0.361710           2.739390  2016   \n",
       "1                       0.412030    0.280830           2.694630  2016   \n",
       "2                       0.149750    0.476780           2.831370  2016   \n",
       "3                       0.357760    0.378950           2.664650  2016   \n",
       "4                       0.410040    0.254920           2.825960  2016   \n",
       "0                       0.315964    0.362012           2.277027  2017   \n",
       "1                       0.400770    0.355280           2.313707  2017   \n",
       "2                       0.153527    0.475540           2.322715  2017   \n",
       "3                       0.367007    0.290549           2.276716  2017   \n",
       "4                       0.382612    0.245483           2.430182  2017   \n",
       "0                       0.393000    0.202000                NaN  2018   \n",
       "1                       0.340000    0.286000                NaN  2018   \n",
       "2                       0.408000    0.284000                NaN  2018   \n",
       "3                       0.138000    0.353000                NaN  2018   \n",
       "4                       0.357000    0.256000                NaN  2018   \n",
       "0                       0.393000    0.153000                NaN  2019   \n",
       "1                       0.410000    0.252000                NaN  2019   \n",
       "2                       0.341000    0.271000                NaN  2019   \n",
       "3                       0.118000    0.354000                NaN  2019   \n",
       "4                       0.298000    0.322000                NaN  2019   \n",
       "0                       0.195445   -0.059482           2.762835  2020   \n",
       "1                       0.168489    0.066202           2.432741  2020   \n",
       "2                       0.303728    0.105911           2.350267  2020   \n",
       "3                       0.711710    0.246944           2.460688  2020   \n",
       "4                       0.263218    0.134533           2.168266  2020   \n",
       "\n",
       "   Social support  \n",
       "0             NaN  \n",
       "1             NaN  \n",
       "2             NaN  \n",
       "3             NaN  \n",
       "4             NaN  \n",
       "0             NaN  \n",
       "1             NaN  \n",
       "2             NaN  \n",
       "3             NaN  \n",
       "4             NaN  \n",
       "0             NaN  \n",
       "1             NaN  \n",
       "2             NaN  \n",
       "3             NaN  \n",
       "4             NaN  \n",
       "0             NaN  \n",
       "1             NaN  \n",
       "2             NaN  \n",
       "3             NaN  \n",
       "4             NaN  \n",
       "0        1.587000  \n",
       "1        1.573000  \n",
       "2        1.582000  \n",
       "3        1.624000  \n",
       "4        1.522000  \n",
       "0        0.954330  \n",
       "1        0.955991  \n",
       "2        0.942847  \n",
       "3        0.974670  \n",
       "4        0.952487  "
      ],
      "text/html": "<div>\n<style scoped>\n    .dataframe tbody tr th:only-of-type {\n        vertical-align: middle;\n    }\n\n    .dataframe tbody tr th {\n        vertical-align: top;\n    }\n\n    .dataframe thead th {\n        text-align: right;\n    }\n</style>\n<table border=\"1\" class=\"dataframe\">\n  <thead>\n    <tr style=\"text-align: right;\">\n      <th></th>\n      <th>Country</th>\n      <th>Happiness Rank</th>\n      <th>Happiness Score</th>\n      <th>Economy (GDP per Capita)</th>\n      <th>Family</th>\n      <th>Health (Life Expectancy)</th>\n      <th>Freedom</th>\n      <th>Trust (Government Corruption)</th>\n      <th>Generosity</th>\n      <th>Dystopia Residual</th>\n      <th>Year</th>\n      <th>Social support</th>\n    </tr>\n  </thead>\n  <tbody>\n    <tr>\n      <th>0</th>\n      <td>Switzerland</td>\n      <td>1</td>\n      <td>7.59</td>\n      <td>1.396510</td>\n      <td>1.349510</td>\n      <td>0.941430</td>\n      <td>0.665570</td>\n      <td>0.419780</td>\n      <td>0.296780</td>\n      <td>2.517380</td>\n      <td>2015</td>\n      <td>NaN</td>\n    </tr>\n    <tr>\n      <th>1</th>\n      <td>Iceland</td>\n      <td>2</td>\n      <td>7.56</td>\n      <td>1.302320</td>\n      <td>1.402230</td>\n      <td>0.947840</td>\n      <td>0.628770</td>\n      <td>0.141450</td>\n      <td>0.436300</td>\n      <td>2.702010</td>\n      <td>2015</td>\n      <td>NaN</td>\n    </tr>\n    <tr>\n      <th>2</th>\n      <td>Denmark</td>\n      <td>3</td>\n      <td>7.53</td>\n      <td>1.325480</td>\n      <td>1.360580</td>\n      <td>0.874640</td>\n      <td>0.649380</td>\n      <td>0.483570</td>\n      <td>0.341390</td>\n      <td>2.492040</td>\n      <td>2015</td>\n      <td>NaN</td>\n    </tr>\n    <tr>\n      <th>3</th>\n      <td>Norway</td>\n      <td>4</td>\n      <td>7.52</td>\n      <td>1.459000</td>\n      <td>1.330950</td>\n      <td>0.885210</td>\n      <td>0.669730</td>\n      <td>0.365030</td>\n      <td>0.346990</td>\n      <td>2.465310</td>\n      <td>2015</td>\n      <td>NaN</td>\n    </tr>\n    <tr>\n      <th>4</th>\n      <td>Canada</td>\n      <td>5</td>\n      <td>7.43</td>\n      <td>1.326290</td>\n      <td>1.322610</td>\n      <td>0.905630</td>\n      <td>0.632970</td>\n      <td>0.329570</td>\n      <td>0.458110</td>\n      <td>2.451760</td>\n      <td>2015</td>\n      <td>NaN</td>\n    </tr>\n    <tr>\n      <th>0</th>\n      <td>Denmark</td>\n      <td>1</td>\n      <td>7.53</td>\n      <td>1.441780</td>\n      <td>1.163740</td>\n      <td>0.795040</td>\n      <td>0.579410</td>\n      <td>0.444530</td>\n      <td>0.361710</td>\n      <td>2.739390</td>\n      <td>2016</td>\n      <td>NaN</td>\n    </tr>\n    <tr>\n      <th>1</th>\n      <td>Switzerland</td>\n      <td>2</td>\n      <td>7.51</td>\n      <td>1.527330</td>\n      <td>1.145240</td>\n      <td>0.863030</td>\n      <td>0.585570</td>\n      <td>0.412030</td>\n      <td>0.280830</td>\n      <td>2.694630</td>\n      <td>2016</td>\n      <td>NaN</td>\n    </tr>\n    <tr>\n      <th>2</th>\n      <td>Iceland</td>\n      <td>3</td>\n      <td>7.50</td>\n      <td>1.426660</td>\n      <td>1.183260</td>\n      <td>0.867330</td>\n      <td>0.566240</td>\n      <td>0.149750</td>\n      <td>0.476780</td>\n      <td>2.831370</td>\n      <td>2016</td>\n      <td>NaN</td>\n    </tr>\n    <tr>\n      <th>3</th>\n      <td>Norway</td>\n      <td>4</td>\n      <td>7.50</td>\n      <td>1.577440</td>\n      <td>1.126900</td>\n      <td>0.795790</td>\n      <td>0.596090</td>\n      <td>0.357760</td>\n      <td>0.378950</td>\n      <td>2.664650</td>\n      <td>2016</td>\n      <td>NaN</td>\n    </tr>\n    <tr>\n      <th>4</th>\n      <td>Finland</td>\n      <td>5</td>\n      <td>7.41</td>\n      <td>1.405980</td>\n      <td>1.134640</td>\n      <td>0.810910</td>\n      <td>0.571040</td>\n      <td>0.410040</td>\n      <td>0.254920</td>\n      <td>2.825960</td>\n      <td>2016</td>\n      <td>NaN</td>\n    </tr>\n    <tr>\n      <th>0</th>\n      <td>Norway</td>\n      <td>1</td>\n      <td>7.54</td>\n      <td>1.616463</td>\n      <td>1.533524</td>\n      <td>0.796667</td>\n      <td>0.635423</td>\n      <td>0.315964</td>\n      <td>0.362012</td>\n      <td>2.277027</td>\n      <td>2017</td>\n      <td>NaN</td>\n    </tr>\n    <tr>\n      <th>1</th>\n      <td>Denmark</td>\n      <td>2</td>\n      <td>7.52</td>\n      <td>1.482383</td>\n      <td>1.551122</td>\n      <td>0.792566</td>\n      <td>0.626007</td>\n      <td>0.400770</td>\n      <td>0.355280</td>\n      <td>2.313707</td>\n      <td>2017</td>\n      <td>NaN</td>\n    </tr>\n    <tr>\n      <th>2</th>\n      <td>Iceland</td>\n      <td>3</td>\n      <td>7.50</td>\n      <td>1.480633</td>\n      <td>1.610574</td>\n      <td>0.833552</td>\n      <td>0.627163</td>\n      <td>0.153527</td>\n      <td>0.475540</td>\n      <td>2.322715</td>\n      <td>2017</td>\n      <td>NaN</td>\n    </tr>\n    <tr>\n      <th>3</th>\n      <td>Switzerland</td>\n      <td>4</td>\n      <td>7.49</td>\n      <td>1.564980</td>\n      <td>1.516912</td>\n      <td>0.858131</td>\n      <td>0.620071</td>\n      <td>0.367007</td>\n      <td>0.290549</td>\n      <td>2.276716</td>\n      <td>2017</td>\n      <td>NaN</td>\n    </tr>\n    <tr>\n      <th>4</th>\n      <td>Finland</td>\n      <td>5</td>\n      <td>7.47</td>\n      <td>1.443572</td>\n      <td>1.540247</td>\n      <td>0.809158</td>\n      <td>0.617951</td>\n      <td>0.382612</td>\n      <td>0.245483</td>\n      <td>2.430182</td>\n      <td>2017</td>\n      <td>NaN</td>\n    </tr>\n    <tr>\n      <th>0</th>\n      <td>Finland</td>\n      <td>1</td>\n      <td>7.63</td>\n      <td>1.305000</td>\n      <td>NaN</td>\n      <td>0.874000</td>\n      <td>0.681000</td>\n      <td>0.393000</td>\n      <td>0.202000</td>\n      <td>NaN</td>\n      <td>2018</td>\n      <td>NaN</td>\n    </tr>\n    <tr>\n      <th>1</th>\n      <td>Norway</td>\n      <td>2</td>\n      <td>7.59</td>\n      <td>1.456000</td>\n      <td>NaN</td>\n      <td>0.861000</td>\n      <td>0.686000</td>\n      <td>0.340000</td>\n      <td>0.286000</td>\n      <td>NaN</td>\n      <td>2018</td>\n      <td>NaN</td>\n    </tr>\n    <tr>\n      <th>2</th>\n      <td>Denmark</td>\n      <td>3</td>\n      <td>7.56</td>\n      <td>1.351000</td>\n      <td>NaN</td>\n      <td>0.868000</td>\n      <td>0.683000</td>\n      <td>0.408000</td>\n      <td>0.284000</td>\n      <td>NaN</td>\n      <td>2018</td>\n      <td>NaN</td>\n    </tr>\n    <tr>\n      <th>3</th>\n      <td>Iceland</td>\n      <td>4</td>\n      <td>7.50</td>\n      <td>1.343000</td>\n      <td>NaN</td>\n      <td>0.914000</td>\n      <td>0.677000</td>\n      <td>0.138000</td>\n      <td>0.353000</td>\n      <td>NaN</td>\n      <td>2018</td>\n      <td>NaN</td>\n    </tr>\n    <tr>\n      <th>4</th>\n      <td>Switzerland</td>\n      <td>5</td>\n      <td>7.49</td>\n      <td>1.420000</td>\n      <td>NaN</td>\n      <td>0.927000</td>\n      <td>0.660000</td>\n      <td>0.357000</td>\n      <td>0.256000</td>\n      <td>NaN</td>\n      <td>2018</td>\n      <td>NaN</td>\n    </tr>\n    <tr>\n      <th>0</th>\n      <td>Finland</td>\n      <td>1</td>\n      <td>7.77</td>\n      <td>1.340000</td>\n      <td>NaN</td>\n      <td>0.986000</td>\n      <td>0.596000</td>\n      <td>0.393000</td>\n      <td>0.153000</td>\n      <td>NaN</td>\n      <td>2019</td>\n      <td>1.587000</td>\n    </tr>\n    <tr>\n      <th>1</th>\n      <td>Denmark</td>\n      <td>2</td>\n      <td>7.60</td>\n      <td>1.383000</td>\n      <td>NaN</td>\n      <td>0.996000</td>\n      <td>0.592000</td>\n      <td>0.410000</td>\n      <td>0.252000</td>\n      <td>NaN</td>\n      <td>2019</td>\n      <td>1.573000</td>\n    </tr>\n    <tr>\n      <th>2</th>\n      <td>Norway</td>\n      <td>3</td>\n      <td>7.55</td>\n      <td>1.488000</td>\n      <td>NaN</td>\n      <td>1.028000</td>\n      <td>0.603000</td>\n      <td>0.341000</td>\n      <td>0.271000</td>\n      <td>NaN</td>\n      <td>2019</td>\n      <td>1.582000</td>\n    </tr>\n    <tr>\n      <th>3</th>\n      <td>Iceland</td>\n      <td>4</td>\n      <td>7.49</td>\n      <td>1.380000</td>\n      <td>NaN</td>\n      <td>1.026000</td>\n      <td>0.591000</td>\n      <td>0.118000</td>\n      <td>0.354000</td>\n      <td>NaN</td>\n      <td>2019</td>\n      <td>1.624000</td>\n    </tr>\n    <tr>\n      <th>4</th>\n      <td>Netherlands</td>\n      <td>5</td>\n      <td>7.49</td>\n      <td>1.396000</td>\n      <td>NaN</td>\n      <td>0.999000</td>\n      <td>0.557000</td>\n      <td>0.298000</td>\n      <td>0.322000</td>\n      <td>NaN</td>\n      <td>2019</td>\n      <td>1.522000</td>\n    </tr>\n    <tr>\n      <th>0</th>\n      <td>Finland</td>\n      <td>0</td>\n      <td>7.81</td>\n      <td>10.639267</td>\n      <td>NaN</td>\n      <td>71.900825</td>\n      <td>0.949172</td>\n      <td>0.195445</td>\n      <td>-0.059482</td>\n      <td>2.762835</td>\n      <td>2020</td>\n      <td>0.954330</td>\n    </tr>\n    <tr>\n      <th>1</th>\n      <td>Denmark</td>\n      <td>1</td>\n      <td>7.65</td>\n      <td>10.774001</td>\n      <td>NaN</td>\n      <td>72.402504</td>\n      <td>0.951444</td>\n      <td>0.168489</td>\n      <td>0.066202</td>\n      <td>2.432741</td>\n      <td>2020</td>\n      <td>0.955991</td>\n    </tr>\n    <tr>\n      <th>2</th>\n      <td>Switzerland</td>\n      <td>2</td>\n      <td>7.56</td>\n      <td>10.979933</td>\n      <td>NaN</td>\n      <td>74.102448</td>\n      <td>0.921337</td>\n      <td>0.303728</td>\n      <td>0.105911</td>\n      <td>2.350267</td>\n      <td>2020</td>\n      <td>0.942847</td>\n    </tr>\n    <tr>\n      <th>3</th>\n      <td>Iceland</td>\n      <td>3</td>\n      <td>7.50</td>\n      <td>10.772559</td>\n      <td>NaN</td>\n      <td>73.000000</td>\n      <td>0.948892</td>\n      <td>0.711710</td>\n      <td>0.246944</td>\n      <td>2.460688</td>\n      <td>2020</td>\n      <td>0.974670</td>\n    </tr>\n    <tr>\n      <th>4</th>\n      <td>Norway</td>\n      <td>4</td>\n      <td>7.49</td>\n      <td>11.087804</td>\n      <td>NaN</td>\n      <td>73.200783</td>\n      <td>0.955750</td>\n      <td>0.263218</td>\n      <td>0.134533</td>\n      <td>2.168266</td>\n      <td>2020</td>\n      <td>0.952487</td>\n    </tr>\n  </tbody>\n</table>\n</div>"
     },
     "metadata": {},
     "execution_count": 17
    }
   ],
   "source": [
    "# For analysis 1 - sort dataframes into top 5 happiest countries by year\n",
    "\n",
    "\n",
    "\n",
    "happiest_c_2015 = csv2015.sort_values(by=['Happiness Rank']).head(5)\n",
    "happiest_c_2015\n",
    "happiest_c_2016 = csv2016.sort_values(by=['Happiness Rank']).head(5)\n",
    "happiest_c_2016\n",
    "happiest_c_2017 = csv2017.sort_values(by=['Happiness Rank']).head(5)\n",
    "happiest_c_2017\n",
    "happiest_c_2018 = csv2018.sort_values(by=['Happiness Rank']).head(5)\n",
    "happiest_c_2018\n",
    "happiest_c_2019 = csv2019.sort_values(by=['Happiness Rank']).head(5)\n",
    "happiest_c_2019\n",
    "\n",
    "# no data for 2020\n",
    "happiest_c_2020 = csv2020.sort_values(by=['Happiness Rank']).head(5)\n",
    "# print(happiest_c_2020)\n",
    "\n",
    "# combine into 1 data frame\n",
    "\n",
    "happiest = [happiest_c_2015,happiest_c_2016,happiest_c_2017,happiest_c_2018,happiest_c_2019, happiest_c_2020]\n",
    "happest_c_df = pd.concat(happiest)\n",
    "rouded_happiest_df = happest_c_df.round({'Happiness Score': 2})\n",
    "rouded_happiest_df"
   ]
  },
  {
   "cell_type": "code",
   "execution_count": 18,
   "id": "healthy-ratio",
   "metadata": {},
   "outputs": [
    {
     "output_type": "stream",
     "name": "stdout",
     "text": [
      "   Country  Happiness Rank  Happiness Score  Economy (GDP per Capita)  \\\n1  Iceland               2            7.561                  1.302320   \n2  Denmark               3            7.527                  1.325480   \n3   Norway               4            7.522                  1.459000   \n0  Denmark               1            7.526                  1.441780   \n2  Iceland               3            7.501                  1.426660   \n3   Norway               4            7.498                  1.577440   \n0   Norway               1            7.537                  1.616463   \n1  Denmark               2            7.522                  1.482383   \n2  Iceland               3            7.504                  1.480633   \n1   Norway               2            7.594                  1.456000   \n2  Denmark               3            7.555                  1.351000   \n3  Iceland               4            7.495                  1.343000   \n1  Denmark               2            7.600                  1.383000   \n2   Norway               3            7.554                  1.488000   \n3  Iceland               4            7.494                  1.380000   \n\n     Family  Health (Life Expectancy)   Freedom  \\\n1  1.402230                  0.947840  0.628770   \n2  1.360580                  0.874640  0.649380   \n3  1.330950                  0.885210  0.669730   \n0  1.163740                  0.795040  0.579410   \n2  1.183260                  0.867330  0.566240   \n3  1.126900                  0.795790  0.596090   \n0  1.533524                  0.796667  0.635423   \n1  1.551122                  0.792566  0.626007   \n2  1.610574                  0.833552  0.627163   \n1       NaN                  0.861000  0.686000   \n2       NaN                  0.868000  0.683000   \n3       NaN                  0.914000  0.677000   \n1       NaN                  0.996000  0.592000   \n2       NaN                  1.028000  0.603000   \n3       NaN                  1.026000  0.591000   \n\n   Trust (Government Corruption)  Generosity  Dystopia Residual  Year  \\\n1                       0.141450    0.436300           2.702010  2015   \n2                       0.483570    0.341390           2.492040  2015   \n3                       0.365030    0.346990           2.465310  2015   \n0                       0.444530    0.361710           2.739390  2016   \n2                       0.149750    0.476780           2.831370  2016   \n3                       0.357760    0.378950           2.664650  2016   \n0                       0.315964    0.362012           2.277027  2017   \n1                       0.400770    0.355280           2.313707  2017   \n2                       0.153527    0.475540           2.322715  2017   \n1                       0.340000    0.286000                NaN  2018   \n2                       0.408000    0.284000                NaN  2018   \n3                       0.138000    0.353000                NaN  2018   \n1                       0.410000    0.252000                NaN  2019   \n2                       0.341000    0.271000                NaN  2019   \n3                       0.118000    0.354000                NaN  2019   \n\n   Social support  \n1             NaN  \n2             NaN  \n3             NaN  \n0             NaN  \n2             NaN  \n3             NaN  \n0             NaN  \n1             NaN  \n2             NaN  \n1             NaN  \n2             NaN  \n3             NaN  \n1           1.573  \n2           1.582  \n3           1.624  \n"
     ]
    }
   ],
   "source": [
    "# For analysis 2 - sort dataframe into top 7 happiest countries by year\n",
    "\n",
    "\n",
    "happiest_c_2015_2 = happiness_df[(happiness_df['Country'] == 'Denmark' )|(happiness_df['Country'] == 'Iceland') | (happiness_df['Country'] == 'Norway') ]\n",
    "happiest_c_2015_2_2=happiest_c_2015_2[(happiest_c_2015_2['Year']==2015)|(happiest_c_2015_2['Year']==2016)|(happiest_c_2015_2['Year']==2017)|(happiest_c_2015_2['Year']==2018)|(happiest_c_2015_2['Year']==2019)]\n",
    "\n",
    "print(happiest_c_2015_2_2)\n"
   ]
  },
  {
   "cell_type": "markdown",
   "id": "maritime-zambia",
   "metadata": {},
   "source": [
    "## Data analysis & visualizations"
   ]
  },
  {
   "cell_type": "code",
   "execution_count": 19,
   "id": "narrow-filling",
   "metadata": {},
   "outputs": [
    {
     "output_type": "execute_result",
     "data": {
      "text/html": "\n<div id=\"altair-viz-4112c903149944b2a21ab9f1e1e04de8\"></div>\n<script type=\"text/javascript\">\n  (function(spec, embedOpt){\n    let outputDiv = document.currentScript.previousElementSibling;\n    if (outputDiv.id !== \"altair-viz-4112c903149944b2a21ab9f1e1e04de8\") {\n      outputDiv = document.getElementById(\"altair-viz-4112c903149944b2a21ab9f1e1e04de8\");\n    }\n    const paths = {\n      \"vega\": \"https://cdn.jsdelivr.net/npm//vega@5?noext\",\n      \"vega-lib\": \"https://cdn.jsdelivr.net/npm//vega-lib?noext\",\n      \"vega-lite\": \"https://cdn.jsdelivr.net/npm//vega-lite@4.8.1?noext\",\n      \"vega-embed\": \"https://cdn.jsdelivr.net/npm//vega-embed@6?noext\",\n    };\n\n    function loadScript(lib) {\n      return new Promise(function(resolve, reject) {\n        var s = document.createElement('script');\n        s.src = paths[lib];\n        s.async = true;\n        s.onload = () => resolve(paths[lib]);\n        s.onerror = () => reject(`Error loading script: ${paths[lib]}`);\n        document.getElementsByTagName(\"head\")[0].appendChild(s);\n      });\n    }\n\n    function showError(err) {\n      outputDiv.innerHTML = `<div class=\"error\" style=\"color:red;\">${err}</div>`;\n      throw err;\n    }\n\n    function displayChart(vegaEmbed) {\n      vegaEmbed(outputDiv, spec, embedOpt)\n        .catch(err => showError(`Javascript Error: ${err.message}<br>This usually means there's a typo in your chart specification. See the javascript console for the full traceback.`));\n    }\n\n    if(typeof define === \"function\" && define.amd) {\n      requirejs.config({paths});\n      require([\"vega-embed\"], displayChart, err => showError(`Error loading script: ${err.message}`));\n    } else if (typeof vegaEmbed === \"function\") {\n      displayChart(vegaEmbed);\n    } else {\n      loadScript(\"vega\")\n        .then(() => loadScript(\"vega-lite\"))\n        .then(() => loadScript(\"vega-embed\"))\n        .catch(showError)\n        .then(() => displayChart(vegaEmbed));\n    }\n  })({\"config\": {\"view\": {\"continuousWidth\": 400, \"continuousHeight\": 300}, \"header\": {\"labelFontSize\": 25}}, \"data\": {\"name\": \"data-e4b3362e1b539dafea5db0dd63774362\"}, \"facet\": {\"type\": \"nominal\", \"field\": \"Year\"}, \"spec\": {\"layer\": [{\"mark\": \"bar\", \"encoding\": {\"color\": {\"type\": \"nominal\", \"field\": \"Country\", \"legend\": null}, \"x\": {\"type\": \"quantitative\", \"field\": \"Happiness Score\", \"scale\": {\"domain\": [7.3, 7.8]}}, \"y\": {\"type\": \"nominal\", \"field\": \"Country\"}}, \"height\": 200, \"width\": 200}, {\"mark\": {\"type\": \"text\", \"align\": \"left\", \"baseline\": \"middle\", \"dx\": 3}, \"encoding\": {\"color\": {\"type\": \"nominal\", \"field\": \"Country\", \"legend\": null}, \"text\": {\"type\": \"quantitative\", \"field\": \"Happiness Score\"}, \"x\": {\"type\": \"quantitative\", \"field\": \"Happiness Score\", \"scale\": {\"domain\": [7.3, 7.8]}}, \"y\": {\"type\": \"nominal\", \"field\": \"Country\"}}, \"height\": 200, \"width\": 200}]}, \"columns\": 2, \"resolve\": {\"axis\": {\"x\": \"independent\", \"y\": \"independent\"}}, \"title\": \"Top 5 Happiest Countries by Year \", \"$schema\": \"https://vega.github.io/schema/vega-lite/v4.8.1.json\", \"datasets\": {\"data-e4b3362e1b539dafea5db0dd63774362\": [{\"Country\": \"Switzerland\", \"Happiness Rank\": 1, \"Happiness Score\": 7.59, \"Economy (GDP per Capita)\": 1.3965100000000001, \"Family\": 1.34951, \"Health (Life Expectancy)\": 0.9414299999999999, \"Freedom\": 0.66557, \"Trust (Government Corruption)\": 0.41978000000000004, \"Generosity\": 0.29678000000000004, \"Dystopia Residual\": 2.5173799999999997, \"Year\": 2015, \"Social support\": null}, {\"Country\": \"Iceland\", \"Happiness Rank\": 2, \"Happiness Score\": 7.56, \"Economy (GDP per Capita)\": 1.3023200000000001, \"Family\": 1.4022299999999999, \"Health (Life Expectancy)\": 0.94784, \"Freedom\": 0.6287699999999999, \"Trust (Government Corruption)\": 0.14145, \"Generosity\": 0.4363, \"Dystopia Residual\": 2.70201, \"Year\": 2015, \"Social support\": null}, {\"Country\": \"Denmark\", \"Happiness Rank\": 3, \"Happiness Score\": 7.53, \"Economy (GDP per Capita)\": 1.32548, \"Family\": 1.36058, \"Health (Life Expectancy)\": 0.87464, \"Freedom\": 0.6493800000000001, \"Trust (Government Corruption)\": 0.48357, \"Generosity\": 0.34139, \"Dystopia Residual\": 2.4920400000000003, \"Year\": 2015, \"Social support\": null}, {\"Country\": \"Norway\", \"Happiness Rank\": 4, \"Happiness Score\": 7.52, \"Economy (GDP per Capita)\": 1.459, \"Family\": 1.33095, \"Health (Life Expectancy)\": 0.88521, \"Freedom\": 0.66973, \"Trust (Government Corruption)\": 0.36503, \"Generosity\": 0.34699, \"Dystopia Residual\": 2.4653099999999997, \"Year\": 2015, \"Social support\": null}, {\"Country\": \"Canada\", \"Happiness Rank\": 5, \"Happiness Score\": 7.43, \"Economy (GDP per Capita)\": 1.32629, \"Family\": 1.32261, \"Health (Life Expectancy)\": 0.9056299999999999, \"Freedom\": 0.63297, \"Trust (Government Corruption)\": 0.32957, \"Generosity\": 0.45811, \"Dystopia Residual\": 2.4517599999999997, \"Year\": 2015, \"Social support\": null}, {\"Country\": \"Denmark\", \"Happiness Rank\": 1, \"Happiness Score\": 7.53, \"Economy (GDP per Capita)\": 1.4417799999999998, \"Family\": 1.16374, \"Health (Life Expectancy)\": 0.79504, \"Freedom\": 0.5794100000000001, \"Trust (Government Corruption)\": 0.44453000000000004, \"Generosity\": 0.36171, \"Dystopia Residual\": 2.73939, \"Year\": 2016, \"Social support\": null}, {\"Country\": \"Switzerland\", \"Happiness Rank\": 2, \"Happiness Score\": 7.51, \"Economy (GDP per Capita)\": 1.5273299999999999, \"Family\": 1.14524, \"Health (Life Expectancy)\": 0.86303, \"Freedom\": 0.58557, \"Trust (Government Corruption)\": 0.41203, \"Generosity\": 0.28083, \"Dystopia Residual\": 2.69463, \"Year\": 2016, \"Social support\": null}, {\"Country\": \"Iceland\", \"Happiness Rank\": 3, \"Happiness Score\": 7.5, \"Economy (GDP per Capita)\": 1.42666, \"Family\": 1.18326, \"Health (Life Expectancy)\": 0.8673299999999999, \"Freedom\": 0.56624, \"Trust (Government Corruption)\": 0.14975, \"Generosity\": 0.47678000000000004, \"Dystopia Residual\": 2.83137, \"Year\": 2016, \"Social support\": null}, {\"Country\": \"Norway\", \"Happiness Rank\": 4, \"Happiness Score\": 7.5, \"Economy (GDP per Capita)\": 1.57744, \"Family\": 1.1269, \"Health (Life Expectancy)\": 0.79579, \"Freedom\": 0.59609, \"Trust (Government Corruption)\": 0.35775999999999997, \"Generosity\": 0.37895, \"Dystopia Residual\": 2.66465, \"Year\": 2016, \"Social support\": null}, {\"Country\": \"Finland\", \"Happiness Rank\": 5, \"Happiness Score\": 7.41, \"Economy (GDP per Capita)\": 1.40598, \"Family\": 1.1346399999999999, \"Health (Life Expectancy)\": 0.81091, \"Freedom\": 0.57104, \"Trust (Government Corruption)\": 0.41003999999999996, \"Generosity\": 0.25492, \"Dystopia Residual\": 2.82596, \"Year\": 2016, \"Social support\": null}, {\"Country\": \"Norway\", \"Happiness Rank\": 1, \"Happiness Score\": 7.54, \"Economy (GDP per Capita)\": 1.6164631843566901, \"Family\": 1.53352355957031, \"Health (Life Expectancy)\": 0.796666502952576, \"Freedom\": 0.635422587394714, \"Trust (Government Corruption)\": 0.31596383452415505, \"Generosity\": 0.36201223731041, \"Dystopia Residual\": 2.27702665328979, \"Year\": 2017, \"Social support\": null}, {\"Country\": \"Denmark\", \"Happiness Rank\": 2, \"Happiness Score\": 7.52, \"Economy (GDP per Capita)\": 1.48238301277161, \"Family\": 1.55112159252167, \"Health (Life Expectancy)\": 0.7925655245780941, \"Freedom\": 0.626006722450256, \"Trust (Government Corruption)\": 0.40077006816863997, \"Generosity\": 0.3552804887294771, \"Dystopia Residual\": 2.31370735168457, \"Year\": 2017, \"Social support\": null}, {\"Country\": \"Iceland\", \"Happiness Rank\": 3, \"Happiness Score\": 7.5, \"Economy (GDP per Capita)\": 1.480633020401, \"Family\": 1.6105740070343, \"Health (Life Expectancy)\": 0.8335521221160892, \"Freedom\": 0.6271626353263849, \"Trust (Government Corruption)\": 0.15352655947208402, \"Generosity\": 0.47554022073745705, \"Dystopia Residual\": 2.32271528244019, \"Year\": 2017, \"Social support\": null}, {\"Country\": \"Switzerland\", \"Happiness Rank\": 4, \"Happiness Score\": 7.49, \"Economy (GDP per Capita)\": 1.5649795532226598, \"Family\": 1.51691174507141, \"Health (Life Expectancy)\": 0.858131289482117, \"Freedom\": 0.620070576667786, \"Trust (Government Corruption)\": 0.36700728535652205, \"Generosity\": 0.29054927825927696, \"Dystopia Residual\": 2.2767162322998, \"Year\": 2017, \"Social support\": null}, {\"Country\": \"Finland\", \"Happiness Rank\": 5, \"Happiness Score\": 7.47, \"Economy (GDP per Capita)\": 1.44357192516327, \"Family\": 1.5402467250824, \"Health (Life Expectancy)\": 0.80915766954422, \"Freedom\": 0.6179508566856379, \"Trust (Government Corruption)\": 0.38261154294014, \"Generosity\": 0.24548277258873, \"Dystopia Residual\": 2.4301815032958998, \"Year\": 2017, \"Social support\": null}, {\"Country\": \"Finland\", \"Happiness Rank\": 1, \"Happiness Score\": 7.63, \"Economy (GDP per Capita)\": 1.305, \"Family\": null, \"Health (Life Expectancy)\": 0.8740000000000001, \"Freedom\": 0.6809999999999999, \"Trust (Government Corruption)\": 0.39299999999999996, \"Generosity\": 0.20199999999999999, \"Dystopia Residual\": null, \"Year\": 2018, \"Social support\": null}, {\"Country\": \"Norway\", \"Happiness Rank\": 2, \"Happiness Score\": 7.59, \"Economy (GDP per Capita)\": 1.456, \"Family\": null, \"Health (Life Expectancy)\": 0.861, \"Freedom\": 0.6859999999999999, \"Trust (Government Corruption)\": 0.34, \"Generosity\": 0.28600000000000003, \"Dystopia Residual\": null, \"Year\": 2018, \"Social support\": null}, {\"Country\": \"Denmark\", \"Happiness Rank\": 3, \"Happiness Score\": 7.56, \"Economy (GDP per Capita)\": 1.351, \"Family\": null, \"Health (Life Expectancy)\": 0.868, \"Freedom\": 0.6829999999999999, \"Trust (Government Corruption)\": 0.408, \"Generosity\": 0.284, \"Dystopia Residual\": null, \"Year\": 2018, \"Social support\": null}, {\"Country\": \"Iceland\", \"Happiness Rank\": 4, \"Happiness Score\": 7.5, \"Economy (GDP per Capita)\": 1.3430000000000002, \"Family\": null, \"Health (Life Expectancy)\": 0.914, \"Freedom\": 0.677, \"Trust (Government Corruption)\": 0.138, \"Generosity\": 0.353, \"Dystopia Residual\": null, \"Year\": 2018, \"Social support\": null}, {\"Country\": \"Switzerland\", \"Happiness Rank\": 5, \"Happiness Score\": 7.49, \"Economy (GDP per Capita)\": 1.42, \"Family\": null, \"Health (Life Expectancy)\": 0.927, \"Freedom\": 0.66, \"Trust (Government Corruption)\": 0.35700000000000004, \"Generosity\": 0.256, \"Dystopia Residual\": null, \"Year\": 2018, \"Social support\": null}, {\"Country\": \"Finland\", \"Happiness Rank\": 1, \"Happiness Score\": 7.77, \"Economy (GDP per Capita)\": 1.34, \"Family\": null, \"Health (Life Expectancy)\": 0.986, \"Freedom\": 0.596, \"Trust (Government Corruption)\": 0.39299999999999996, \"Generosity\": 0.153, \"Dystopia Residual\": null, \"Year\": 2019, \"Social support\": 1.587}, {\"Country\": \"Denmark\", \"Happiness Rank\": 2, \"Happiness Score\": 7.6, \"Economy (GDP per Capita)\": 1.383, \"Family\": null, \"Health (Life Expectancy)\": 0.996, \"Freedom\": 0.5920000000000001, \"Trust (Government Corruption)\": 0.41, \"Generosity\": 0.252, \"Dystopia Residual\": null, \"Year\": 2019, \"Social support\": 1.5730000000000002}, {\"Country\": \"Norway\", \"Happiness Rank\": 3, \"Happiness Score\": 7.55, \"Economy (GDP per Capita)\": 1.4880000000000002, \"Family\": null, \"Health (Life Expectancy)\": 1.028, \"Freedom\": 0.603, \"Trust (Government Corruption)\": 0.341, \"Generosity\": 0.271, \"Dystopia Residual\": null, \"Year\": 2019, \"Social support\": 1.5819999999999999}, {\"Country\": \"Iceland\", \"Happiness Rank\": 4, \"Happiness Score\": 7.49, \"Economy (GDP per Capita)\": 1.38, \"Family\": null, \"Health (Life Expectancy)\": 1.026, \"Freedom\": 0.591, \"Trust (Government Corruption)\": 0.11800000000000001, \"Generosity\": 0.354, \"Dystopia Residual\": null, \"Year\": 2019, \"Social support\": 1.624}, {\"Country\": \"Netherlands\", \"Happiness Rank\": 5, \"Happiness Score\": 7.49, \"Economy (GDP per Capita)\": 1.396, \"Family\": null, \"Health (Life Expectancy)\": 0.9990000000000001, \"Freedom\": 0.557, \"Trust (Government Corruption)\": 0.298, \"Generosity\": 0.322, \"Dystopia Residual\": null, \"Year\": 2019, \"Social support\": 1.5219999999999998}, {\"Country\": \"Finland\", \"Happiness Rank\": 0, \"Happiness Score\": 7.81, \"Economy (GDP per Capita)\": 10.63926697, \"Family\": null, \"Health (Life Expectancy)\": 71.9008255, \"Freedom\": 0.949172199, \"Trust (Government Corruption)\": 0.19544458399999998, \"Generosity\": -0.059482019000000004, \"Dystopia Residual\": 2.7628350260000003, \"Year\": 2020, \"Social support\": 0.954329729}, {\"Country\": \"Denmark\", \"Happiness Rank\": 1, \"Happiness Score\": 7.65, \"Economy (GDP per Capita)\": 10.77400112, \"Family\": null, \"Health (Life Expectancy)\": 72.40250397, \"Freedom\": 0.9514442679999999, \"Trust (Government Corruption)\": 0.168489456, \"Generosity\": 0.06620177599999999, \"Dystopia Residual\": 2.432740688, \"Year\": 2020, \"Social support\": 0.955990791}, {\"Country\": \"Switzerland\", \"Happiness Rank\": 2, \"Happiness Score\": 7.56, \"Economy (GDP per Capita)\": 10.97993279, \"Family\": null, \"Health (Life Expectancy)\": 74.10244751, \"Freedom\": 0.921336651, \"Trust (Government Corruption)\": 0.303728431, \"Generosity\": 0.105911039, \"Dystopia Residual\": 2.35026741, \"Year\": 2020, \"Social support\": 0.942846596}, {\"Country\": \"Iceland\", \"Happiness Rank\": 3, \"Happiness Score\": 7.5, \"Economy (GDP per Capita)\": 10.77255917, \"Family\": null, \"Health (Life Expectancy)\": 73.0, \"Freedom\": 0.948891878, \"Trust (Government Corruption)\": 0.7117097379999999, \"Generosity\": 0.246944219, \"Dystopia Residual\": 2.460688114, \"Year\": 2020, \"Social support\": 0.9746695759999999}, {\"Country\": \"Norway\", \"Happiness Rank\": 4, \"Happiness Score\": 7.49, \"Economy (GDP per Capita)\": 11.08780384, \"Family\": null, \"Health (Life Expectancy)\": 73.20078278, \"Freedom\": 0.955750287, \"Trust (Government Corruption)\": 0.26321819399999996, \"Generosity\": 0.13453263, \"Dystopia Residual\": 2.168266296, \"Year\": 2020, \"Social support\": 0.952486575}]}}, {\"mode\": \"vega-lite\"});\n</script>",
      "text/plain": [
       "alt.FacetChart(...)"
      ]
     },
     "metadata": {},
     "execution_count": 19
    }
   ],
   "source": [
    "import altair as alt\n",
    "\n",
    "#top 3 Happiest countries by year\n",
    "\n",
    "\n",
    "\n",
    "csv2015.sort_values(by=['Happiness Rank']).head(5)\n",
    "\n",
    "\n",
    "\n",
    "\n",
    "chart=(alt.Chart(rouded_happiest_df).mark_bar().encode(\n",
    "     alt.X('Happiness Score', scale=alt.Scale(domain=(7.3, 7.8))),\n",
    "     alt.Y('Country'), color=alt.Color('Country', legend=None))).properties(\n",
    "    \n",
    "    height=200, width=200)\n",
    "\n",
    "text = chart.mark_text(\n",
    "    align='left',\n",
    "    baseline='middle',\n",
    "    dx=3  # Nudges text to right so it doesn't appear on top of the bar\n",
    ").encode(\n",
    "    text='Happiness Score:Q'\n",
    ")\n",
    "\n",
    "(chart + text).facet(\n",
    "    facet='Year:N', columns=2).resolve_axis(\n",
    "    x='independent',\n",
    "    y='independent',\n",
    ").configure_header(labelFontSize=25).properties(\n",
    "    title='Top 5 Happiest Countries by Year '\n",
    ")"
   ]
  },
  {
   "cell_type": "markdown",
   "id": "accepted-stomach",
   "metadata": {},
   "source": [
    "Interesting! Over the past 5 years, the happiest self-ranked countries were  Canada, Denmark, Finaland, Iceland, the Netherlands, Norway and Switzerland! Denmark, Iceland and Norway appear in the top 5 ranking for every year. Lets investigate what contributes the most to their happiness score."
   ]
  },
  {
   "cell_type": "code",
   "execution_count": 20,
   "id": "fluid-installation",
   "metadata": {},
   "outputs": [
    {
     "output_type": "execute_result",
     "data": {
      "text/html": "\n<div id=\"altair-viz-7a05cc8de4634ee584d852ee2b94f03c\"></div>\n<script type=\"text/javascript\">\n  (function(spec, embedOpt){\n    let outputDiv = document.currentScript.previousElementSibling;\n    if (outputDiv.id !== \"altair-viz-7a05cc8de4634ee584d852ee2b94f03c\") {\n      outputDiv = document.getElementById(\"altair-viz-7a05cc8de4634ee584d852ee2b94f03c\");\n    }\n    const paths = {\n      \"vega\": \"https://cdn.jsdelivr.net/npm//vega@5?noext\",\n      \"vega-lib\": \"https://cdn.jsdelivr.net/npm//vega-lib?noext\",\n      \"vega-lite\": \"https://cdn.jsdelivr.net/npm//vega-lite@4.8.1?noext\",\n      \"vega-embed\": \"https://cdn.jsdelivr.net/npm//vega-embed@6?noext\",\n    };\n\n    function loadScript(lib) {\n      return new Promise(function(resolve, reject) {\n        var s = document.createElement('script');\n        s.src = paths[lib];\n        s.async = true;\n        s.onload = () => resolve(paths[lib]);\n        s.onerror = () => reject(`Error loading script: ${paths[lib]}`);\n        document.getElementsByTagName(\"head\")[0].appendChild(s);\n      });\n    }\n\n    function showError(err) {\n      outputDiv.innerHTML = `<div class=\"error\" style=\"color:red;\">${err}</div>`;\n      throw err;\n    }\n\n    function displayChart(vegaEmbed) {\n      vegaEmbed(outputDiv, spec, embedOpt)\n        .catch(err => showError(`Javascript Error: ${err.message}<br>This usually means there's a typo in your chart specification. See the javascript console for the full traceback.`));\n    }\n\n    if(typeof define === \"function\" && define.amd) {\n      requirejs.config({paths});\n      require([\"vega-embed\"], displayChart, err => showError(`Error loading script: ${err.message}`));\n    } else if (typeof vegaEmbed === \"function\") {\n      displayChart(vegaEmbed);\n    } else {\n      loadScript(\"vega\")\n        .then(() => loadScript(\"vega-lite\"))\n        .then(() => loadScript(\"vega-embed\"))\n        .catch(showError)\n        .then(() => displayChart(vegaEmbed));\n    }\n  })({\"config\": {\"view\": {\"continuousWidth\": 400, \"continuousHeight\": 300}}, \"data\": {\"name\": \"data-7207efca71d75b9f120676b69c0b8d83\"}, \"facet\": {\"type\": \"nominal\", \"field\": \"Country\"}, \"spec\": {\"layer\": [{\"mark\": {\"type\": \"area\", \"color\": \"blue\", \"opacity\": 0.5}, \"encoding\": {\"x\": {\"type\": \"quantitative\", \"field\": \"Year\"}, \"y\": {\"type\": \"quantitative\", \"field\": \"Health (Life Expectancy)\", \"title\": \"Amount of Happiness Score\"}}}, {\"mark\": {\"type\": \"area\", \"color\": \"red\", \"opacity\": 0.5}, \"encoding\": {\"x\": {\"type\": \"quantitative\", \"field\": \"Year\"}, \"y\": {\"type\": \"quantitative\", \"field\": \"Freedom\"}}}, {\"mark\": {\"type\": \"area\", \"color\": \"yellow\", \"opacity\": 0.5}, \"encoding\": {\"x\": {\"type\": \"quantitative\", \"field\": \"Year\"}, \"y\": {\"type\": \"quantitative\", \"field\": \"Economy (GDP per Capita)\"}}}, {\"mark\": {\"type\": \"area\", \"color\": \"green\", \"opacity\": 0.5}, \"encoding\": {\"x\": {\"type\": \"quantitative\", \"field\": \"Year\"}, \"y\": {\"type\": \"quantitative\", \"field\": \"Trust (Government Corruption)\"}}}, {\"mark\": {\"type\": \"area\", \"color\": \"purple\", \"opacity\": 0.5}, \"encoding\": {\"x\": {\"type\": \"quantitative\", \"field\": \"Year\"}, \"y\": {\"type\": \"quantitative\", \"field\": \"Generosity\"}}}]}, \"$schema\": \"https://vega.github.io/schema/vega-lite/v4.8.1.json\", \"datasets\": {\"data-7207efca71d75b9f120676b69c0b8d83\": [{\"Country\": \"Iceland\", \"Happiness Rank\": 2, \"Happiness Score\": 7.561, \"Economy (GDP per Capita)\": 1.3023200000000001, \"Family\": 1.4022299999999999, \"Health (Life Expectancy)\": 0.94784, \"Freedom\": 0.6287699999999999, \"Trust (Government Corruption)\": 0.14145, \"Generosity\": 0.4363, \"Dystopia Residual\": 2.70201, \"Year\": 2015, \"Social support\": null}, {\"Country\": \"Denmark\", \"Happiness Rank\": 3, \"Happiness Score\": 7.527, \"Economy (GDP per Capita)\": 1.32548, \"Family\": 1.36058, \"Health (Life Expectancy)\": 0.87464, \"Freedom\": 0.6493800000000001, \"Trust (Government Corruption)\": 0.48357, \"Generosity\": 0.34139, \"Dystopia Residual\": 2.4920400000000003, \"Year\": 2015, \"Social support\": null}, {\"Country\": \"Norway\", \"Happiness Rank\": 4, \"Happiness Score\": 7.522, \"Economy (GDP per Capita)\": 1.459, \"Family\": 1.33095, \"Health (Life Expectancy)\": 0.88521, \"Freedom\": 0.66973, \"Trust (Government Corruption)\": 0.36503, \"Generosity\": 0.34699, \"Dystopia Residual\": 2.4653099999999997, \"Year\": 2015, \"Social support\": null}, {\"Country\": \"Denmark\", \"Happiness Rank\": 1, \"Happiness Score\": 7.526, \"Economy (GDP per Capita)\": 1.4417799999999998, \"Family\": 1.16374, \"Health (Life Expectancy)\": 0.79504, \"Freedom\": 0.5794100000000001, \"Trust (Government Corruption)\": 0.44453000000000004, \"Generosity\": 0.36171, \"Dystopia Residual\": 2.73939, \"Year\": 2016, \"Social support\": null}, {\"Country\": \"Iceland\", \"Happiness Rank\": 3, \"Happiness Score\": 7.501, \"Economy (GDP per Capita)\": 1.42666, \"Family\": 1.18326, \"Health (Life Expectancy)\": 0.8673299999999999, \"Freedom\": 0.56624, \"Trust (Government Corruption)\": 0.14975, \"Generosity\": 0.47678000000000004, \"Dystopia Residual\": 2.83137, \"Year\": 2016, \"Social support\": null}, {\"Country\": \"Norway\", \"Happiness Rank\": 4, \"Happiness Score\": 7.497999999999999, \"Economy (GDP per Capita)\": 1.57744, \"Family\": 1.1269, \"Health (Life Expectancy)\": 0.79579, \"Freedom\": 0.59609, \"Trust (Government Corruption)\": 0.35775999999999997, \"Generosity\": 0.37895, \"Dystopia Residual\": 2.66465, \"Year\": 2016, \"Social support\": null}, {\"Country\": \"Norway\", \"Happiness Rank\": 1, \"Happiness Score\": 7.537000179290769, \"Economy (GDP per Capita)\": 1.6164631843566901, \"Family\": 1.53352355957031, \"Health (Life Expectancy)\": 0.796666502952576, \"Freedom\": 0.635422587394714, \"Trust (Government Corruption)\": 0.31596383452415505, \"Generosity\": 0.36201223731041, \"Dystopia Residual\": 2.27702665328979, \"Year\": 2017, \"Social support\": null}, {\"Country\": \"Denmark\", \"Happiness Rank\": 2, \"Happiness Score\": 7.52199983596802, \"Economy (GDP per Capita)\": 1.48238301277161, \"Family\": 1.55112159252167, \"Health (Life Expectancy)\": 0.7925655245780941, \"Freedom\": 0.626006722450256, \"Trust (Government Corruption)\": 0.40077006816863997, \"Generosity\": 0.3552804887294771, \"Dystopia Residual\": 2.31370735168457, \"Year\": 2017, \"Social support\": null}, {\"Country\": \"Iceland\", \"Happiness Rank\": 3, \"Happiness Score\": 7.50400018692017, \"Economy (GDP per Capita)\": 1.480633020401, \"Family\": 1.6105740070343, \"Health (Life Expectancy)\": 0.8335521221160892, \"Freedom\": 0.6271626353263849, \"Trust (Government Corruption)\": 0.15352655947208402, \"Generosity\": 0.47554022073745705, \"Dystopia Residual\": 2.32271528244019, \"Year\": 2017, \"Social support\": null}, {\"Country\": \"Norway\", \"Happiness Rank\": 2, \"Happiness Score\": 7.593999999999999, \"Economy (GDP per Capita)\": 1.456, \"Family\": null, \"Health (Life Expectancy)\": 0.861, \"Freedom\": 0.6859999999999999, \"Trust (Government Corruption)\": 0.34, \"Generosity\": 0.28600000000000003, \"Dystopia Residual\": null, \"Year\": 2018, \"Social support\": null}, {\"Country\": \"Denmark\", \"Happiness Rank\": 3, \"Happiness Score\": 7.555, \"Economy (GDP per Capita)\": 1.351, \"Family\": null, \"Health (Life Expectancy)\": 0.868, \"Freedom\": 0.6829999999999999, \"Trust (Government Corruption)\": 0.408, \"Generosity\": 0.284, \"Dystopia Residual\": null, \"Year\": 2018, \"Social support\": null}, {\"Country\": \"Iceland\", \"Happiness Rank\": 4, \"Happiness Score\": 7.495, \"Economy (GDP per Capita)\": 1.3430000000000002, \"Family\": null, \"Health (Life Expectancy)\": 0.914, \"Freedom\": 0.677, \"Trust (Government Corruption)\": 0.138, \"Generosity\": 0.353, \"Dystopia Residual\": null, \"Year\": 2018, \"Social support\": null}, {\"Country\": \"Denmark\", \"Happiness Rank\": 2, \"Happiness Score\": 7.6, \"Economy (GDP per Capita)\": 1.383, \"Family\": null, \"Health (Life Expectancy)\": 0.996, \"Freedom\": 0.5920000000000001, \"Trust (Government Corruption)\": 0.41, \"Generosity\": 0.252, \"Dystopia Residual\": null, \"Year\": 2019, \"Social support\": 1.5730000000000002}, {\"Country\": \"Norway\", \"Happiness Rank\": 3, \"Happiness Score\": 7.553999999999999, \"Economy (GDP per Capita)\": 1.4880000000000002, \"Family\": null, \"Health (Life Expectancy)\": 1.028, \"Freedom\": 0.603, \"Trust (Government Corruption)\": 0.341, \"Generosity\": 0.271, \"Dystopia Residual\": null, \"Year\": 2019, \"Social support\": 1.5819999999999999}, {\"Country\": \"Iceland\", \"Happiness Rank\": 4, \"Happiness Score\": 7.494, \"Economy (GDP per Capita)\": 1.38, \"Family\": null, \"Health (Life Expectancy)\": 1.026, \"Freedom\": 0.591, \"Trust (Government Corruption)\": 0.11800000000000001, \"Generosity\": 0.354, \"Dystopia Residual\": null, \"Year\": 2019, \"Social support\": 1.624}]}}, {\"mode\": \"vega-lite\"});\n</script>",
      "text/plain": [
       "alt.FacetChart(...)"
      ]
     },
     "metadata": {},
     "execution_count": 20
    }
   ],
   "source": [
    "base=(alt.Chart(happiest_c_2015_2_2).mark_area(opacity=0.3).encode(\n",
    "     alt.X('Year'), alt.Y(title=None)\n",
    "    ))\n",
    "\n",
    "\n",
    "chart2= alt.layer(\n",
    "    base.mark_area(color='blue',opacity=0.5).encode(y=alt.Y('Health (Life Expectancy)', title=\"Amount of Happiness Score\")),\n",
    "    base.mark_area(color='red',opacity=0.5).encode(y='Freedom'),\n",
    "    base.mark_area(color='yellow',opacity=0.5).encode(y='Economy (GDP per Capita)'),\n",
    "    base.mark_area(color='green',opacity=0.5).encode(y='Trust (Government Corruption)'),\n",
    "    base.mark_area(color='purple',opacity=0.5).encode(y='Generosity')\n",
    ").facet(\n",
    "    facet='Country')\n",
    "\n",
    "chart2"
   ]
  },
  {
   "cell_type": "markdown",
   "id": "advised-tourism",
   "metadata": {},
   "source": [
    "How does this compare to the countries with the lowest happiness scores?"
   ]
  },
  {
   "cell_type": "code",
   "execution_count": 54,
   "id": "olive-sussex",
   "metadata": {},
   "outputs": [],
   "source": [
    "happiness_df.groupby([\"Country\"]).var().sort_values([\"Happiness Rank\"], ascending = False)['Happiness Rank'][0:10]\n",
    "Venezuela = happiness_df[(happiness_df[\"Country\"]==\"Venezuela\") |\n",
    " (happiness_df[\"Country\"]==\"Benin\")|\n",
    "  (happiness_df[\"Country\"]==\"Ivory Coast\")|\n",
    "  (happiness_df[\"Country\"]==\"Algeria\")]\n",
    "Venezuela = Venezuela[Venezuela[\"Year\"]!=2020]"
   ]
  },
  {
   "cell_type": "code",
   "execution_count": 57,
   "id": "collect-beverage",
   "metadata": {},
   "outputs": [
    {
     "output_type": "execute_result",
     "data": {
      "text/html": "\n<div id=\"altair-viz-8bfd0a6217164016b8cd502c392f492f\"></div>\n<script type=\"text/javascript\">\n  (function(spec, embedOpt){\n    let outputDiv = document.currentScript.previousElementSibling;\n    if (outputDiv.id !== \"altair-viz-8bfd0a6217164016b8cd502c392f492f\") {\n      outputDiv = document.getElementById(\"altair-viz-8bfd0a6217164016b8cd502c392f492f\");\n    }\n    const paths = {\n      \"vega\": \"https://cdn.jsdelivr.net/npm//vega@5?noext\",\n      \"vega-lib\": \"https://cdn.jsdelivr.net/npm//vega-lib?noext\",\n      \"vega-lite\": \"https://cdn.jsdelivr.net/npm//vega-lite@4.8.1?noext\",\n      \"vega-embed\": \"https://cdn.jsdelivr.net/npm//vega-embed@6?noext\",\n    };\n\n    function loadScript(lib) {\n      return new Promise(function(resolve, reject) {\n        var s = document.createElement('script');\n        s.src = paths[lib];\n        s.async = true;\n        s.onload = () => resolve(paths[lib]);\n        s.onerror = () => reject(`Error loading script: ${paths[lib]}`);\n        document.getElementsByTagName(\"head\")[0].appendChild(s);\n      });\n    }\n\n    function showError(err) {\n      outputDiv.innerHTML = `<div class=\"error\" style=\"color:red;\">${err}</div>`;\n      throw err;\n    }\n\n    function displayChart(vegaEmbed) {\n      vegaEmbed(outputDiv, spec, embedOpt)\n        .catch(err => showError(`Javascript Error: ${err.message}<br>This usually means there's a typo in your chart specification. See the javascript console for the full traceback.`));\n    }\n\n    if(typeof define === \"function\" && define.amd) {\n      requirejs.config({paths});\n      require([\"vega-embed\"], displayChart, err => showError(`Error loading script: ${err.message}`));\n    } else if (typeof vegaEmbed === \"function\") {\n      displayChart(vegaEmbed);\n    } else {\n      loadScript(\"vega\")\n        .then(() => loadScript(\"vega-lite\"))\n        .then(() => loadScript(\"vega-embed\"))\n        .catch(showError)\n        .then(() => displayChart(vegaEmbed));\n    }\n  })({\"config\": {\"view\": {\"continuousWidth\": 400, \"continuousHeight\": 300}}, \"repeat\": [\"Happiness Rank\", \"Happiness Score\", \"Economy (GDP per Capita)\", \"Health (Life Expectancy)\", \"Freedom\", \"Trust (Government Corruption)\", \"Generosity\"], \"spec\": {\"data\": {\"name\": \"data-8bfdd7df8b98bfdf7efb9f68d3dbadd2\"}, \"mark\": \"line\", \"encoding\": {\"color\": {\"type\": \"nominal\", \"field\": \"Country\"}, \"shape\": {\"type\": \"nominal\", \"field\": \"Country\", \"legend\": null}, \"x\": {\"type\": \"quantitative\", \"field\": \"Year\", \"scale\": {\"domain\": [2015, 2019]}}, \"y\": {\"type\": \"quantitative\", \"field\": {\"repeat\": \"repeat\"}, \"scale\": {}}}}, \"columns\": 2, \"title\": \"Countries Scores vs. Factors\", \"$schema\": \"https://vega.github.io/schema/vega-lite/v4.8.1.json\", \"datasets\": {\"data-8bfdd7df8b98bfdf7efb9f68d3dbadd2\": [{\"Country\": \"Venezuela\", \"Happiness Rank\": 23, \"Happiness Score\": 6.81, \"Economy (GDP per Capita)\": 1.04424, \"Family\": 1.25596, \"Health (Life Expectancy)\": 0.7205199999999999, \"Freedom\": 0.42908, \"Trust (Government Corruption)\": 0.11069000000000001, \"Generosity\": 0.058410000000000004, \"Dystopia Residual\": 3.1913099999999996, \"Year\": 2015, \"Social support\": null}, {\"Country\": \"Algeria\", \"Happiness Rank\": 68, \"Happiness Score\": 5.605, \"Economy (GDP per Capita)\": 0.93929, \"Family\": 1.07772, \"Health (Life Expectancy)\": 0.61766, \"Freedom\": 0.28579, \"Trust (Government Corruption)\": 0.17382999999999998, \"Generosity\": 0.07822, \"Dystopia Residual\": 2.43209, \"Year\": 2015, \"Social support\": null}, {\"Country\": \"Ivory Coast\", \"Happiness Rank\": 151, \"Happiness Score\": 3.655, \"Economy (GDP per Capita)\": 0.46534, \"Family\": 0.77115, \"Health (Life Expectancy)\": 0.15185, \"Freedom\": 0.46866, \"Trust (Government Corruption)\": 0.17922000000000002, \"Generosity\": 0.20165, \"Dystopia Residual\": 1.41723, \"Year\": 2015, \"Social support\": null}, {\"Country\": \"Benin\", \"Happiness Rank\": 155, \"Happiness Score\": 3.34, \"Economy (GDP per Capita)\": 0.28665, \"Family\": 0.35386, \"Health (Life Expectancy)\": 0.3191, \"Freedom\": 0.4845, \"Trust (Government Corruption)\": 0.0801, \"Generosity\": 0.1826, \"Dystopia Residual\": 1.6332799999999998, \"Year\": 2015, \"Social support\": null}, {\"Country\": \"Algeria\", \"Happiness Rank\": 38, \"Happiness Score\": 6.355, \"Economy (GDP per Capita)\": 1.05266, \"Family\": 0.83309, \"Health (Life Expectancy)\": 0.6180399999999999, \"Freedom\": 0.21006, \"Trust (Government Corruption)\": 0.16157, \"Generosity\": 0.07044, \"Dystopia Residual\": 3.40904, \"Year\": 2016, \"Social support\": null}, {\"Country\": \"Venezuela\", \"Happiness Rank\": 44, \"Happiness Score\": 6.084, \"Economy (GDP per Capita)\": 1.1336700000000002, \"Family\": 1.03302, \"Health (Life Expectancy)\": 0.6190399999999999, \"Freedom\": 0.19847, \"Trust (Government Corruption)\": 0.08304, \"Generosity\": 0.0425, \"Dystopia Residual\": 2.9746799999999998, \"Year\": 2016, \"Social support\": null}, {\"Country\": \"Ivory Coast\", \"Happiness Rank\": 139, \"Happiness Score\": 3.9160000000000004, \"Economy (GDP per Capita)\": 0.55507, \"Family\": 0.57576, \"Health (Life Expectancy)\": 0.04476, \"Freedom\": 0.40663, \"Trust (Government Corruption)\": 0.1553, \"Generosity\": 0.20338, \"Dystopia Residual\": 1.97478, \"Year\": 2016, \"Social support\": null}, {\"Country\": \"Benin\", \"Happiness Rank\": 153, \"Happiness Score\": 3.484, \"Economy (GDP per Capita)\": 0.39499, \"Family\": 0.10419, \"Health (Life Expectancy)\": 0.21028000000000002, \"Freedom\": 0.39747, \"Trust (Government Corruption)\": 0.06681000000000001, \"Generosity\": 0.2018, \"Dystopia Residual\": 2.10812, \"Year\": 2016, \"Social support\": null}, {\"Country\": \"Algeria\", \"Happiness Rank\": 53, \"Happiness Score\": 5.872000217437741, \"Economy (GDP per Capita)\": 1.09186446666718, \"Family\": 1.1462174654007, \"Health (Life Expectancy)\": 0.6175846457481379, \"Freedom\": 0.233335807919502, \"Trust (Government Corruption)\": 0.14609611034393302, \"Generosity\": 0.0694366469979286, \"Dystopia Residual\": 2.5676038265228303, \"Year\": 2017, \"Social support\": null}, {\"Country\": \"Venezuela\", \"Happiness Rank\": 82, \"Happiness Score\": 5.25, \"Economy (GDP per Capita)\": 1.12843120098114, \"Family\": 1.43133759498596, \"Health (Life Expectancy)\": 0.617144227027893, \"Freedom\": 0.15399712324142498, \"Trust (Government Corruption)\": 0.0644911229610443, \"Generosity\": 0.0650196298956871, \"Dystopia Residual\": 1.78946375846863, \"Year\": 2017, \"Social support\": null}, {\"Country\": \"Ivory Coast\", \"Happiness Rank\": 128, \"Happiness Score\": 4.17999982833862, \"Economy (GDP per Capita)\": 0.6030489206314089, \"Family\": 0.904780030250549, \"Health (Life Expectancy)\": 0.0486421696841717, \"Freedom\": 0.4477061927318571, \"Trust (Government Corruption)\": 0.130061775445938, \"Generosity\": 0.201237469911575, \"Dystopia Residual\": 1.84496426582336, \"Year\": 2017, \"Social support\": null}, {\"Country\": \"Benin\", \"Happiness Rank\": 143, \"Happiness Score\": 3.65700006484985, \"Economy (GDP per Capita)\": 0.43108540773391707, \"Family\": 0.43529984354972795, \"Health (Life Expectancy)\": 0.20993021130561804, \"Freedom\": 0.42596277594566295, \"Trust (Government Corruption)\": 0.0609290152788162, \"Generosity\": 0.207948461174965, \"Dystopia Residual\": 1.88563096523285, \"Year\": 2017, \"Social support\": null}, {\"Country\": \"Algeria\", \"Happiness Rank\": 84, \"Happiness Score\": 5.295, \"Economy (GDP per Capita)\": 0.9790000000000001, \"Family\": null, \"Health (Life Expectancy)\": 0.687, \"Freedom\": 0.077, \"Trust (Government Corruption)\": 0.135, \"Generosity\": 0.055, \"Dystopia Residual\": null, \"Year\": 2018, \"Social support\": null}, {\"Country\": \"Venezuela\", \"Happiness Rank\": 102, \"Happiness Score\": 4.806, \"Economy (GDP per Capita)\": 0.996, \"Family\": null, \"Health (Life Expectancy)\": 0.657, \"Freedom\": 0.133, \"Trust (Government Corruption)\": 0.052000000000000005, \"Generosity\": 0.055999999999999994, \"Dystopia Residual\": null, \"Year\": 2018, \"Social support\": null}, {\"Country\": \"Ivory Coast\", \"Happiness Rank\": 107, \"Happiness Score\": 4.671, \"Economy (GDP per Capita)\": 0.541, \"Family\": null, \"Health (Life Expectancy)\": 0.08, \"Freedom\": 0.467, \"Trust (Government Corruption)\": 0.10300000000000001, \"Generosity\": 0.146, \"Dystopia Residual\": null, \"Year\": 2018, \"Social support\": null}, {\"Country\": \"Benin\", \"Happiness Rank\": 136, \"Happiness Score\": 4.141, \"Economy (GDP per Capita)\": 0.37799999999999995, \"Family\": null, \"Health (Life Expectancy)\": 0.24, \"Freedom\": 0.44, \"Trust (Government Corruption)\": 0.067, \"Generosity\": 0.163, \"Dystopia Residual\": null, \"Year\": 2018, \"Social support\": null}, {\"Country\": \"Algeria\", \"Happiness Rank\": 88, \"Happiness Score\": 5.211, \"Economy (GDP per Capita)\": 1.002, \"Family\": null, \"Health (Life Expectancy)\": 0.785, \"Freedom\": 0.086, \"Trust (Government Corruption)\": 0.114, \"Generosity\": 0.073, \"Dystopia Residual\": null, \"Year\": 2019, \"Social support\": 1.16}, {\"Country\": \"Ivory Coast\", \"Happiness Rank\": 99, \"Happiness Score\": 4.944, \"Economy (GDP per Capita)\": 0.569, \"Family\": null, \"Health (Life Expectancy)\": 0.23199999999999998, \"Freedom\": 0.35200000000000004, \"Trust (Government Corruption)\": 0.09, \"Generosity\": 0.154, \"Dystopia Residual\": null, \"Year\": 2019, \"Social support\": 0.8079999999999999}, {\"Country\": \"Benin\", \"Happiness Rank\": 102, \"Happiness Score\": 4.883, \"Economy (GDP per Capita)\": 0.39299999999999996, \"Family\": null, \"Health (Life Expectancy)\": 0.397, \"Freedom\": 0.349, \"Trust (Government Corruption)\": 0.08199999999999999, \"Generosity\": 0.175, \"Dystopia Residual\": null, \"Year\": 2019, \"Social support\": 0.43700000000000006}, {\"Country\": \"Venezuela\", \"Happiness Rank\": 108, \"Happiness Score\": 4.707, \"Economy (GDP per Capita)\": 0.96, \"Family\": null, \"Health (Life Expectancy)\": 0.805, \"Freedom\": 0.154, \"Trust (Government Corruption)\": 0.047, \"Generosity\": 0.064, \"Dystopia Residual\": null, \"Year\": 2019, \"Social support\": 1.4269999999999998}]}}, {\"mode\": \"vega-lite\"});\n</script>",
      "text/plain": [
       "alt.RepeatChart(...)"
      ]
     },
     "metadata": {},
     "execution_count": 57
    }
   ],
   "source": [
    "Vpoints = alt.Chart(Venezuela).mark_line().encode(\n",
    "    x=alt.X('Year:Q', \n",
    "     scale=alt.Scale(domain=[2015,2019])),\n",
    "    y=alt.Y(alt.repeat(),\n",
    "     type='quantitative',\n",
    "     scale=alt.Scale()),\n",
    "     color='Country',\n",
    "     shape=alt.Shape('Country', legend=None)\n",
    ").repeat(repeat=[\"Happiness Rank\",\n",
    "                \"Happiness Score\",\n",
    "                 \"Economy (GDP per Capita)\",\n",
    "                 \"Health (Life Expectancy)\",\n",
    "                 \"Freedom\",\n",
    "                 \"Trust (Government Corruption)\",\n",
    "                 \"Generosity\"],\n",
    "     columns=2\n",
    ").properties(title=\"Countries Scores vs. Factors\")\n",
    "\n",
    "Vpoints"
   ]
  },
  {
   "cell_type": "code",
   "execution_count": 75,
   "id": "textile-arnold",
   "metadata": {},
   "outputs": [
    {
     "output_type": "execute_result",
     "data": {
      "text/plain": [
       "                      Country  Happiness Rank  Happiness Score  \\\n",
       "0                 Switzerland               1            7.587   \n",
       "1                     Iceland               2            7.561   \n",
       "2                     Denmark               3            7.527   \n",
       "3                      Norway               4            7.522   \n",
       "4                      Canada               5            7.427   \n",
       "..                        ...             ...              ...   \n",
       "151                    Rwanda             152            3.334   \n",
       "152                  Tanzania             153            3.231   \n",
       "153               Afghanistan             154            3.203   \n",
       "154  Central African Republic             155            3.083   \n",
       "155               South Sudan             156            2.853   \n",
       "\n",
       "     Economy (GDP per Capita)   Family  Health (Life Expectancy)  Freedom  \\\n",
       "0                     1.39651  1.34951                   0.94143  0.66557   \n",
       "1                     1.30232  1.40223                   0.94784  0.62877   \n",
       "2                     1.32548  1.36058                   0.87464  0.64938   \n",
       "3                     1.45900  1.33095                   0.88521  0.66973   \n",
       "4                     1.32629  1.32261                   0.90563  0.63297   \n",
       "..                        ...      ...                       ...      ...   \n",
       "151                   0.35900      NaN                   0.61400  0.55500   \n",
       "152                   0.47600      NaN                   0.49900  0.41700   \n",
       "153                   0.35000      NaN                   0.36100  0.00000   \n",
       "154                   0.02600      NaN                   0.10500  0.22500   \n",
       "155                   0.30600      NaN                   0.29500  0.01000   \n",
       "\n",
       "     Trust (Government Corruption)  Generosity  Dystopia Residual  Year  \\\n",
       "0                          0.41978     0.29678            2.51738  2015   \n",
       "1                          0.14145     0.43630            2.70201  2015   \n",
       "2                          0.48357     0.34139            2.49204  2015   \n",
       "3                          0.36503     0.34699            2.46531  2015   \n",
       "4                          0.32957     0.45811            2.45176  2015   \n",
       "..                             ...         ...                ...   ...   \n",
       "151                        0.41100     0.21700                NaN  2019   \n",
       "152                        0.14700     0.27600                NaN  2019   \n",
       "153                        0.02500     0.15800                NaN  2019   \n",
       "154                        0.03500     0.23500                NaN  2019   \n",
       "155                        0.09100     0.20200                NaN  2019   \n",
       "\n",
       "     Social support  \n",
       "0               NaN  \n",
       "1               NaN  \n",
       "2               NaN  \n",
       "3               NaN  \n",
       "4               NaN  \n",
       "..              ...  \n",
       "151           0.711  \n",
       "152           0.885  \n",
       "153           0.517  \n",
       "154           0.000  \n",
       "155           0.575  \n",
       "\n",
       "[782 rows x 12 columns]"
      ],
      "text/html": "<div>\n<style scoped>\n    .dataframe tbody tr th:only-of-type {\n        vertical-align: middle;\n    }\n\n    .dataframe tbody tr th {\n        vertical-align: top;\n    }\n\n    .dataframe thead th {\n        text-align: right;\n    }\n</style>\n<table border=\"1\" class=\"dataframe\">\n  <thead>\n    <tr style=\"text-align: right;\">\n      <th></th>\n      <th>Country</th>\n      <th>Happiness Rank</th>\n      <th>Happiness Score</th>\n      <th>Economy (GDP per Capita)</th>\n      <th>Family</th>\n      <th>Health (Life Expectancy)</th>\n      <th>Freedom</th>\n      <th>Trust (Government Corruption)</th>\n      <th>Generosity</th>\n      <th>Dystopia Residual</th>\n      <th>Year</th>\n      <th>Social support</th>\n    </tr>\n  </thead>\n  <tbody>\n    <tr>\n      <th>0</th>\n      <td>Switzerland</td>\n      <td>1</td>\n      <td>7.587</td>\n      <td>1.39651</td>\n      <td>1.34951</td>\n      <td>0.94143</td>\n      <td>0.66557</td>\n      <td>0.41978</td>\n      <td>0.29678</td>\n      <td>2.51738</td>\n      <td>2015</td>\n      <td>NaN</td>\n    </tr>\n    <tr>\n      <th>1</th>\n      <td>Iceland</td>\n      <td>2</td>\n      <td>7.561</td>\n      <td>1.30232</td>\n      <td>1.40223</td>\n      <td>0.94784</td>\n      <td>0.62877</td>\n      <td>0.14145</td>\n      <td>0.43630</td>\n      <td>2.70201</td>\n      <td>2015</td>\n      <td>NaN</td>\n    </tr>\n    <tr>\n      <th>2</th>\n      <td>Denmark</td>\n      <td>3</td>\n      <td>7.527</td>\n      <td>1.32548</td>\n      <td>1.36058</td>\n      <td>0.87464</td>\n      <td>0.64938</td>\n      <td>0.48357</td>\n      <td>0.34139</td>\n      <td>2.49204</td>\n      <td>2015</td>\n      <td>NaN</td>\n    </tr>\n    <tr>\n      <th>3</th>\n      <td>Norway</td>\n      <td>4</td>\n      <td>7.522</td>\n      <td>1.45900</td>\n      <td>1.33095</td>\n      <td>0.88521</td>\n      <td>0.66973</td>\n      <td>0.36503</td>\n      <td>0.34699</td>\n      <td>2.46531</td>\n      <td>2015</td>\n      <td>NaN</td>\n    </tr>\n    <tr>\n      <th>4</th>\n      <td>Canada</td>\n      <td>5</td>\n      <td>7.427</td>\n      <td>1.32629</td>\n      <td>1.32261</td>\n      <td>0.90563</td>\n      <td>0.63297</td>\n      <td>0.32957</td>\n      <td>0.45811</td>\n      <td>2.45176</td>\n      <td>2015</td>\n      <td>NaN</td>\n    </tr>\n    <tr>\n      <th>...</th>\n      <td>...</td>\n      <td>...</td>\n      <td>...</td>\n      <td>...</td>\n      <td>...</td>\n      <td>...</td>\n      <td>...</td>\n      <td>...</td>\n      <td>...</td>\n      <td>...</td>\n      <td>...</td>\n      <td>...</td>\n    </tr>\n    <tr>\n      <th>151</th>\n      <td>Rwanda</td>\n      <td>152</td>\n      <td>3.334</td>\n      <td>0.35900</td>\n      <td>NaN</td>\n      <td>0.61400</td>\n      <td>0.55500</td>\n      <td>0.41100</td>\n      <td>0.21700</td>\n      <td>NaN</td>\n      <td>2019</td>\n      <td>0.711</td>\n    </tr>\n    <tr>\n      <th>152</th>\n      <td>Tanzania</td>\n      <td>153</td>\n      <td>3.231</td>\n      <td>0.47600</td>\n      <td>NaN</td>\n      <td>0.49900</td>\n      <td>0.41700</td>\n      <td>0.14700</td>\n      <td>0.27600</td>\n      <td>NaN</td>\n      <td>2019</td>\n      <td>0.885</td>\n    </tr>\n    <tr>\n      <th>153</th>\n      <td>Afghanistan</td>\n      <td>154</td>\n      <td>3.203</td>\n      <td>0.35000</td>\n      <td>NaN</td>\n      <td>0.36100</td>\n      <td>0.00000</td>\n      <td>0.02500</td>\n      <td>0.15800</td>\n      <td>NaN</td>\n      <td>2019</td>\n      <td>0.517</td>\n    </tr>\n    <tr>\n      <th>154</th>\n      <td>Central African Republic</td>\n      <td>155</td>\n      <td>3.083</td>\n      <td>0.02600</td>\n      <td>NaN</td>\n      <td>0.10500</td>\n      <td>0.22500</td>\n      <td>0.03500</td>\n      <td>0.23500</td>\n      <td>NaN</td>\n      <td>2019</td>\n      <td>0.000</td>\n    </tr>\n    <tr>\n      <th>155</th>\n      <td>South Sudan</td>\n      <td>156</td>\n      <td>2.853</td>\n      <td>0.30600</td>\n      <td>NaN</td>\n      <td>0.29500</td>\n      <td>0.01000</td>\n      <td>0.09100</td>\n      <td>0.20200</td>\n      <td>NaN</td>\n      <td>2019</td>\n      <td>0.575</td>\n    </tr>\n  </tbody>\n</table>\n<p>782 rows × 12 columns</p>\n</div>"
     },
     "metadata": {},
     "execution_count": 75
    }
   ],
   "source": []
  },
  {
   "cell_type": "markdown",
   "id": "plain-conditioning",
   "metadata": {},
   "source": [
    "## Summary"
   ]
  },
  {
   "cell_type": "markdown",
   "id": "mental-russia",
   "metadata": {},
   "source": [
    "## Conclusions"
   ]
  }
 ],
 "metadata": {
  "kernelspec": {
   "display_name": "Python 3",
   "language": "python",
   "name": "python3"
  },
  "language_info": {
   "codemirror_mode": {
    "name": "ipython",
    "version": 3
   },
   "file_extension": ".py",
   "mimetype": "text/x-python",
   "name": "python",
   "nbconvert_exporter": "python",
   "pygments_lexer": "ipython3",
   "version": "3.8.3-final"
  }
 },
 "nbformat": 4,
 "nbformat_minor": 5
}