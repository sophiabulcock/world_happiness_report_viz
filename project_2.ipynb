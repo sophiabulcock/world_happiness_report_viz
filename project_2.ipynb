{
 "cells": [
  {
   "cell_type": "code",
   "execution_count": null,
   "id": "postal-locking",
   "metadata": {},
   "outputs": [],
   "source": [
    "# Load the dataset\n",
    "\n"
   ]
  },
  {
   "cell_type": "code",
   "execution_count": null,
   "id": "supreme-first",
   "metadata": {},
   "outputs": [],
   "source": [
    "# Describe your dataset"
   ]
  },
  {
   "cell_type": "code",
   "execution_count": null,
   "id": "floating-economy",
   "metadata": {},
   "outputs": [],
   "source": [
    "# Explore your dataset"
   ]
  },
  {
   "cell_type": "code",
   "execution_count": null,
   "id": "english-richmond",
   "metadata": {},
   "outputs": [],
   "source": [
    "# Initial thoughts"
   ]
  },
  {
   "cell_type": "code",
   "execution_count": null,
   "id": "capital-advisory",
   "metadata": {},
   "outputs": [],
   "source": [
    "# Reseach Questions"
   ]
  },
  {
   "cell_type": "code",
   "execution_count": null,
   "id": "fabulous-telephone",
   "metadata": {},
   "outputs": [],
   "source": [
    "# Wrangling"
   ]
  },
  {
   "cell_type": "code",
   "execution_count": null,
   "id": "traditional-treasury",
   "metadata": {},
   "outputs": [],
   "source": [
    "# Data analysis & visualizations"
   ]
  },
  {
   "cell_type": "code",
   "execution_count": null,
   "id": "framed-fighter",
   "metadata": {},
   "outputs": [],
   "source": [
    "# Summary"
   ]
  },
  {
   "cell_type": "code",
   "execution_count": null,
   "id": "lesbian-glass",
   "metadata": {},
   "outputs": [],
   "source": [
    "# Conclusions"
   ]
  }
 ],
 "metadata": {
  "kernelspec": {
   "display_name": "Python 3",
   "language": "python",
   "name": "python3"
  },
  "language_info": {
   "codemirror_mode": {
    "name": "ipython",
    "version": 3
   },
   "file_extension": ".py",
   "mimetype": "text/x-python",
   "name": "python",
   "nbconvert_exporter": "python",
   "pygments_lexer": "ipython3",
   "version": "3.8.6"
  }
 },
 "nbformat": 4,
 "nbformat_minor": 5
}
