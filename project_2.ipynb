{
 "cells": [
  {
   "cell_type": "code",
   "execution_count": 115,
   "id": "behind-usage",
   "metadata": {},
   "outputs": [
    {
     "name": "stdout",
     "output_type": "stream",
     "text": [
      "['Country', 'Region', 'Happiness Rank', 'Happiness Score', 'Standard Error', 'Economy (GDP per Capita)', 'Family', 'Health (Life Expectancy)', 'Freedom', 'Trust (Government Corruption)', 'Generosity', 'Dystopia Residual']\n"
     ]
    }
   ],
   "source": [
    "# Load the dataset\n",
    "\n",
    "import pandas as pd\n",
    "\n",
    "\n",
    "# inspecting the columns\n",
    "csv2015= pd.read_csv('2015.csv')\n",
    "list2015=list(csv2015.columns.values) \n",
    "print(list2015)\n",
    "\n",
    "\n",
    "\n",
    "\n"
   ]
  },
  {
   "cell_type": "code",
   "execution_count": 116,
   "id": "demonstrated-master",
   "metadata": {},
   "outputs": [
    {
     "name": "stdout",
     "output_type": "stream",
     "text": [
      "['Country', 'Region', 'Happiness Rank', 'Happiness Score', 'Lower Confidence Interval', 'Upper Confidence Interval', 'Economy (GDP per Capita)', 'Family', 'Health (Life Expectancy)', 'Freedom', 'Trust (Government Corruption)', 'Generosity', 'Dystopia Residual']\n"
     ]
    }
   ],
   "source": [
    "csv2016=pd.read_csv('2016.csv')\n",
    "list2016=list(csv2016.columns.values) \n",
    "print(list2016)"
   ]
  },
  {
   "cell_type": "code",
   "execution_count": 117,
   "id": "postal-silver",
   "metadata": {},
   "outputs": [
    {
     "name": "stdout",
     "output_type": "stream",
     "text": [
      "['Country', 'Happiness.Rank', 'Happiness.Score', 'Whisker.high', 'Whisker.low', 'Economy..GDP.per.Capita.', 'Family', 'Health..Life.Expectancy.', 'Freedom', 'Generosity', 'Trust..Government.Corruption.', 'Dystopia.Residual']\n"
     ]
    }
   ],
   "source": [
    "csv2017=pd.read_csv('2017.csv')\n",
    "list2017=list(csv2017.columns.values) \n",
    "print(list2017)"
   ]
  },
  {
   "cell_type": "code",
   "execution_count": 118,
   "id": "rental-height",
   "metadata": {},
   "outputs": [
    {
     "name": "stdout",
     "output_type": "stream",
     "text": [
      "['Overall rank', 'Country or region', 'Score', 'GDP per capita', 'Social support', 'Healthy life expectancy', 'Freedom to make life choices', 'Generosity', 'Perceptions of corruption']\n"
     ]
    }
   ],
   "source": [
    "csv2018=pd.read_csv('2018.csv')\n",
    "list2018=list(csv2018.columns.values) \n",
    "print(list2018)"
   ]
  },
  {
   "cell_type": "code",
   "execution_count": 119,
   "id": "sticky-spirit",
   "metadata": {},
   "outputs": [
    {
     "name": "stdout",
     "output_type": "stream",
     "text": [
      "['Overall rank', 'Country or region', 'Score', 'GDP per capita', 'Social support', 'Healthy life expectancy', 'Freedom to make life choices', 'Generosity', 'Perceptions of corruption']\n"
     ]
    }
   ],
   "source": [
    "csv2019=pd.read_csv('2019.csv')\n",
    "list2019=list(csv2019.columns.values) \n",
    "print(list2019)"
   ]
  },
  {
   "cell_type": "code",
   "execution_count": 120,
   "id": "stone-snowboard",
   "metadata": {},
   "outputs": [
    {
     "name": "stdout",
     "output_type": "stream",
     "text": [
      "['Country name', 'Regional indicator', 'Ladder score', 'Standard error of ladder score', 'upperwhisker', 'lowerwhisker', 'Logged GDP per capita', 'Social support', 'Healthy life expectancy', 'Freedom to make life choices', 'Generosity', 'Perceptions of corruption', 'Ladder score in Dystopia', 'Explained by: Log GDP per capita', 'Explained by: Social support', 'Explained by: Healthy life expectancy', 'Explained by: Freedom to make life choices', 'Explained by: Generosity', 'Explained by: Perceptions of corruption', 'Dystopia + residual']\n"
     ]
    }
   ],
   "source": [
    "csv2020=pd.read_csv('2020.csv')\n",
    "list2020=list(csv2020.columns.values) \n",
    "print(list2020)"
   ]
  },
  {
   "cell_type": "code",
   "execution_count": 121,
   "id": "united-nancy",
   "metadata": {},
   "outputs": [],
   "source": [
    "# wrangling into 1 usable data frame\n",
    "\n",
    "# drop columns not needed and found in all data frames\n",
    "csv2015=csv2015.drop(['Region','Standard Error'], axis=1)\n",
    "csv2016=csv2016.drop(['Region'], axis=1)\n",
    "csv2016=csv2016.drop(['Lower Confidence Interval','Upper Confidence Interval'], axis=1)\n",
    "\n",
    "csv2017=csv2017.drop(['Whisker.high', 'Whisker.low'],axis=1)\n",
    "\n",
    "\n",
    "#renaming columns so all data frames share column names\n",
    "csv2017=csv2017.rename(columns={'Happiness.Rank': 'Happiness Rank', \n",
    "                                   'Happiness.Score': 'Happiness Score',\n",
    "                                   'Economy..GDP.per.Capita.':'Economy (GDP per Capita)',\n",
    "                                   'Health..Life.Expectancy.':'Health (Life Expectancy)',\n",
    "                                   'Trust..Government.Corruption.':'Trust (Government Corruption)',\n",
    "                                   'Dystopia.Residual':'Dystopia Residual'})\n",
    "\n",
    "\n",
    "\n",
    "\n",
    "\n"
   ]
  },
  {
   "cell_type": "code",
   "execution_count": 122,
   "id": "final-enlargement",
   "metadata": {},
   "outputs": [],
   "source": [
    "csv2018=csv2018.rename(columns={'Overall rank': 'Happiness Rank','Country or region':'Country',\n",
    "                                'Score':'Happiness Score','GDP per capita':'Economy (GDP per Capita)',\n",
    "                                'Healthy life expectancy':'Health (Life Expectancy)',\n",
    "                                'Freedom to make life choices':'Freedom',\n",
    "                                'Perceptions of corruption':'Trust (Government Corruption)'})\n",
    "                                \n",
    "                                "
   ]
  },
  {
   "cell_type": "code",
   "execution_count": 123,
   "id": "musical-click",
   "metadata": {},
   "outputs": [],
   "source": [
    "csv2019=csv2019.rename(columns={'Overall rank': 'Happiness Rank','Country or region':'Country',\n",
    "                                'Score':'Happiness Score','GDP per capita':'Economy (GDP per Capita)',\n",
    "                                'Healthy life expectancy':'Health (Life Expectancy)',\n",
    "                                'Freedom to make life choices':'Freedom',\n",
    "                                'Trust..Government.Corruption.':'Trust (Government Corruption)',\n",
    "                                'Perceptions of corruption':'Trust (Government Corruption)'})\n",
    "                                \n",
    "                                "
   ]
  },
  {
   "cell_type": "code",
   "execution_count": 124,
   "id": "fantastic-empire",
   "metadata": {},
   "outputs": [],
   "source": [
    "csv2020=csv2020.rename(columns={'Country name':'Country', 'Ladder score':'Happiness Score',\n",
    "                              'Logged GDP per capita':'Economy (GDP per Capita)',\n",
    "                              'Healthy life expectancy':'Health (Life Expectancy)',\n",
    "                               'Freedom to make life choices':'Freedom',\n",
    "                               'Perceptions of corruption':'Trust (Government Corruption)',\n",
    "                               'Dystopia + residual':'Dystopia Residual'\n",
    "                              })"
   ]
  },
  {
   "cell_type": "code",
   "execution_count": 125,
   "id": "cooperative-surgeon",
   "metadata": {},
   "outputs": [
    {
     "name": "stdout",
     "output_type": "stream",
     "text": [
      "Index(['Country', 'Happiness Rank', 'Happiness Score',\n",
      "       'Economy (GDP per Capita)', 'Family', 'Health (Life Expectancy)',\n",
      "       'Freedom', 'Trust (Government Corruption)', 'Generosity',\n",
      "       'Dystopia Residual'],\n",
      "      dtype='object')\n",
      "Index(['Country', 'Happiness Rank', 'Happiness Score',\n",
      "       'Economy (GDP per Capita)', 'Family', 'Health (Life Expectancy)',\n",
      "       'Freedom', 'Trust (Government Corruption)', 'Generosity',\n",
      "       'Dystopia Residual'],\n",
      "      dtype='object')\n",
      "Index(['Country', 'Happiness Rank', 'Happiness Score',\n",
      "       'Economy (GDP per Capita)', 'Family', 'Health (Life Expectancy)',\n",
      "       'Freedom', 'Generosity', 'Trust (Government Corruption)',\n",
      "       'Dystopia Residual'],\n",
      "      dtype='object')\n",
      "Index(['Happiness Rank', 'Country', 'Happiness Score',\n",
      "       'Economy (GDP per Capita)', 'Social support',\n",
      "       'Health (Life Expectancy)', 'Freedom', 'Generosity',\n",
      "       'Trust (Government Corruption)'],\n",
      "      dtype='object')\n",
      "Index(['Happiness Rank', 'Country', 'Happiness Score',\n",
      "       'Economy (GDP per Capita)', 'Social support',\n",
      "       'Health (Life Expectancy)', 'Freedom', 'Generosity',\n",
      "       'Trust (Government Corruption)'],\n",
      "      dtype='object')\n",
      "Index(['Country', 'Regional indicator', 'Happiness Score',\n",
      "       'Standard error of ladder score', 'upperwhisker', 'lowerwhisker',\n",
      "       'Economy (GDP per Capita)', 'Social support',\n",
      "       'Health (Life Expectancy)', 'Freedom', 'Generosity',\n",
      "       'Trust (Government Corruption)', 'Ladder score in Dystopia',\n",
      "       'Explained by: Log GDP per capita', 'Explained by: Social support',\n",
      "       'Explained by: Healthy life expectancy',\n",
      "       'Explained by: Freedom to make life choices',\n",
      "       'Explained by: Generosity', 'Explained by: Perceptions of corruption',\n",
      "       'Dystopia Residual'],\n",
      "      dtype='object')\n"
     ]
    }
   ],
   "source": [
    "print(csv2015.columns)\n",
    "print(csv2016.columns)\n",
    "print(csv2017.columns)\n",
    "print(csv2018.columns)\n",
    "print(csv2019.columns)\n",
    "print(csv2020.columns)\n",
    "\n",
    "\n",
    "csv2018=csv2018.drop(['Social support'], axis=1)\n",
    "\n",
    "csv2020=csv2020.drop(['Regional indicator','Standard error of ladder score',\n",
    "                     'upperwhisker','lowerwhisker','Ladder score in Dystopia',\n",
    "                     'Explained by: Log GDP per capita','Explained by: Social support',\n",
    "                     'Explained by: Healthy life expectancy','Explained by: Freedom to make life choices',\n",
    "                     'Explained by: Generosity','Explained by: Perceptions of corruption'], axis=1)\n",
    "\n",
    "\n",
    "\n",
    "\n",
    "# join into 1 data frame \n",
    "\n",
    "\n"
   ]
  },
  {
   "cell_type": "code",
   "execution_count": 126,
   "id": "faced-adams",
   "metadata": {},
   "outputs": [
    {
     "name": "stdout",
     "output_type": "stream",
     "text": [
      "Index(['Country', 'Happiness Rank', 'Happiness Score',\n",
      "       'Economy (GDP per Capita)', 'Family', 'Health (Life Expectancy)',\n",
      "       'Freedom', 'Trust (Government Corruption)', 'Generosity',\n",
      "       'Dystopia Residual'],\n",
      "      dtype='object')\n",
      "Index(['Country', 'Happiness Rank', 'Happiness Score',\n",
      "       'Economy (GDP per Capita)', 'Family', 'Health (Life Expectancy)',\n",
      "       'Freedom', 'Trust (Government Corruption)', 'Generosity',\n",
      "       'Dystopia Residual'],\n",
      "      dtype='object')\n",
      "Index(['Country', 'Happiness Rank', 'Happiness Score',\n",
      "       'Economy (GDP per Capita)', 'Family', 'Health (Life Expectancy)',\n",
      "       'Freedom', 'Generosity', 'Trust (Government Corruption)',\n",
      "       'Dystopia Residual'],\n",
      "      dtype='object')\n",
      "Index(['Happiness Rank', 'Country', 'Happiness Score',\n",
      "       'Economy (GDP per Capita)', 'Health (Life Expectancy)', 'Freedom',\n",
      "       'Generosity', 'Trust (Government Corruption)'],\n",
      "      dtype='object')\n",
      "Index(['Happiness Rank', 'Country', 'Happiness Score',\n",
      "       'Economy (GDP per Capita)', 'Social support',\n",
      "       'Health (Life Expectancy)', 'Freedom', 'Generosity',\n",
      "       'Trust (Government Corruption)'],\n",
      "      dtype='object')\n",
      "Index(['Country', 'Happiness Score', 'Economy (GDP per Capita)',\n",
      "       'Social support', 'Health (Life Expectancy)', 'Freedom', 'Generosity',\n",
      "       'Trust (Government Corruption)', 'Dystopia Residual'],\n",
      "      dtype='object')\n"
     ]
    }
   ],
   "source": [
    "print(csv2015.columns)\n",
    "print(csv2016.columns)\n",
    "print(csv2017.columns)\n",
    "print(csv2018.columns)\n",
    "print(csv2019.columns)\n",
    "print(csv2020.columns)"
   ]
  },
  {
   "cell_type": "code",
   "execution_count": 127,
   "id": "numerical-story",
   "metadata": {},
   "outputs": [
    {
     "data": {
      "text/html": [
       "<div>\n",
       "<style scoped>\n",
       "    .dataframe tbody tr th:only-of-type {\n",
       "        vertical-align: middle;\n",
       "    }\n",
       "\n",
       "    .dataframe tbody tr th {\n",
       "        vertical-align: top;\n",
       "    }\n",
       "\n",
       "    .dataframe thead th {\n",
       "        text-align: right;\n",
       "    }\n",
       "</style>\n",
       "<table border=\"1\" class=\"dataframe\">\n",
       "  <thead>\n",
       "    <tr style=\"text-align: right;\">\n",
       "      <th></th>\n",
       "      <th>Country</th>\n",
       "      <th>Happiness Rank</th>\n",
       "      <th>Happiness Score</th>\n",
       "      <th>Economy (GDP per Capita)</th>\n",
       "      <th>Family</th>\n",
       "      <th>Health (Life Expectancy)</th>\n",
       "      <th>Freedom</th>\n",
       "      <th>Trust (Government Corruption)</th>\n",
       "      <th>Generosity</th>\n",
       "      <th>Dystopia Residual</th>\n",
       "      <th>Year</th>\n",
       "      <th>Social support</th>\n",
       "    </tr>\n",
       "  </thead>\n",
       "  <tbody>\n",
       "    <tr>\n",
       "      <th>0</th>\n",
       "      <td>Switzerland</td>\n",
       "      <td>1.0</td>\n",
       "      <td>7.5870</td>\n",
       "      <td>1.396510</td>\n",
       "      <td>1.34951</td>\n",
       "      <td>0.941430</td>\n",
       "      <td>0.665570</td>\n",
       "      <td>0.419780</td>\n",
       "      <td>0.296780</td>\n",
       "      <td>2.517380</td>\n",
       "      <td>2015</td>\n",
       "      <td>NaN</td>\n",
       "    </tr>\n",
       "    <tr>\n",
       "      <th>1</th>\n",
       "      <td>Iceland</td>\n",
       "      <td>2.0</td>\n",
       "      <td>7.5610</td>\n",
       "      <td>1.302320</td>\n",
       "      <td>1.40223</td>\n",
       "      <td>0.947840</td>\n",
       "      <td>0.628770</td>\n",
       "      <td>0.141450</td>\n",
       "      <td>0.436300</td>\n",
       "      <td>2.702010</td>\n",
       "      <td>2015</td>\n",
       "      <td>NaN</td>\n",
       "    </tr>\n",
       "    <tr>\n",
       "      <th>2</th>\n",
       "      <td>Denmark</td>\n",
       "      <td>3.0</td>\n",
       "      <td>7.5270</td>\n",
       "      <td>1.325480</td>\n",
       "      <td>1.36058</td>\n",
       "      <td>0.874640</td>\n",
       "      <td>0.649380</td>\n",
       "      <td>0.483570</td>\n",
       "      <td>0.341390</td>\n",
       "      <td>2.492040</td>\n",
       "      <td>2015</td>\n",
       "      <td>NaN</td>\n",
       "    </tr>\n",
       "    <tr>\n",
       "      <th>3</th>\n",
       "      <td>Norway</td>\n",
       "      <td>4.0</td>\n",
       "      <td>7.5220</td>\n",
       "      <td>1.459000</td>\n",
       "      <td>1.33095</td>\n",
       "      <td>0.885210</td>\n",
       "      <td>0.669730</td>\n",
       "      <td>0.365030</td>\n",
       "      <td>0.346990</td>\n",
       "      <td>2.465310</td>\n",
       "      <td>2015</td>\n",
       "      <td>NaN</td>\n",
       "    </tr>\n",
       "    <tr>\n",
       "      <th>4</th>\n",
       "      <td>Canada</td>\n",
       "      <td>5.0</td>\n",
       "      <td>7.4270</td>\n",
       "      <td>1.326290</td>\n",
       "      <td>1.32261</td>\n",
       "      <td>0.905630</td>\n",
       "      <td>0.632970</td>\n",
       "      <td>0.329570</td>\n",
       "      <td>0.458110</td>\n",
       "      <td>2.451760</td>\n",
       "      <td>2015</td>\n",
       "      <td>NaN</td>\n",
       "    </tr>\n",
       "    <tr>\n",
       "      <th>...</th>\n",
       "      <td>...</td>\n",
       "      <td>...</td>\n",
       "      <td>...</td>\n",
       "      <td>...</td>\n",
       "      <td>...</td>\n",
       "      <td>...</td>\n",
       "      <td>...</td>\n",
       "      <td>...</td>\n",
       "      <td>...</td>\n",
       "      <td>...</td>\n",
       "      <td>...</td>\n",
       "      <td>...</td>\n",
       "    </tr>\n",
       "    <tr>\n",
       "      <th>148</th>\n",
       "      <td>Central African Republic</td>\n",
       "      <td>NaN</td>\n",
       "      <td>3.4759</td>\n",
       "      <td>6.625160</td>\n",
       "      <td>NaN</td>\n",
       "      <td>45.200001</td>\n",
       "      <td>0.640881</td>\n",
       "      <td>0.891807</td>\n",
       "      <td>0.082410</td>\n",
       "      <td>2.860198</td>\n",
       "      <td>2020</td>\n",
       "      <td>0.319460</td>\n",
       "    </tr>\n",
       "    <tr>\n",
       "      <th>149</th>\n",
       "      <td>Rwanda</td>\n",
       "      <td>NaN</td>\n",
       "      <td>3.3123</td>\n",
       "      <td>7.600104</td>\n",
       "      <td>NaN</td>\n",
       "      <td>61.098846</td>\n",
       "      <td>0.900589</td>\n",
       "      <td>0.183541</td>\n",
       "      <td>0.055484</td>\n",
       "      <td>0.548445</td>\n",
       "      <td>2020</td>\n",
       "      <td>0.540835</td>\n",
       "    </tr>\n",
       "    <tr>\n",
       "      <th>150</th>\n",
       "      <td>Zimbabwe</td>\n",
       "      <td>NaN</td>\n",
       "      <td>3.2992</td>\n",
       "      <td>7.865712</td>\n",
       "      <td>NaN</td>\n",
       "      <td>55.617260</td>\n",
       "      <td>0.711458</td>\n",
       "      <td>0.810237</td>\n",
       "      <td>-0.072064</td>\n",
       "      <td>0.841031</td>\n",
       "      <td>2020</td>\n",
       "      <td>0.763093</td>\n",
       "    </tr>\n",
       "    <tr>\n",
       "      <th>151</th>\n",
       "      <td>South Sudan</td>\n",
       "      <td>NaN</td>\n",
       "      <td>2.8166</td>\n",
       "      <td>7.425360</td>\n",
       "      <td>NaN</td>\n",
       "      <td>51.000000</td>\n",
       "      <td>0.451314</td>\n",
       "      <td>0.763417</td>\n",
       "      <td>0.016519</td>\n",
       "      <td>1.378751</td>\n",
       "      <td>2020</td>\n",
       "      <td>0.553707</td>\n",
       "    </tr>\n",
       "    <tr>\n",
       "      <th>152</th>\n",
       "      <td>Afghanistan</td>\n",
       "      <td>NaN</td>\n",
       "      <td>2.5669</td>\n",
       "      <td>7.462861</td>\n",
       "      <td>NaN</td>\n",
       "      <td>52.590000</td>\n",
       "      <td>0.396573</td>\n",
       "      <td>0.933687</td>\n",
       "      <td>-0.096429</td>\n",
       "      <td>1.507236</td>\n",
       "      <td>2020</td>\n",
       "      <td>0.470367</td>\n",
       "    </tr>\n",
       "  </tbody>\n",
       "</table>\n",
       "<p>935 rows × 12 columns</p>\n",
       "</div>"
      ],
      "text/plain": [
       "                      Country  Happiness Rank  Happiness Score  \\\n",
       "0                 Switzerland             1.0           7.5870   \n",
       "1                     Iceland             2.0           7.5610   \n",
       "2                     Denmark             3.0           7.5270   \n",
       "3                      Norway             4.0           7.5220   \n",
       "4                      Canada             5.0           7.4270   \n",
       "..                        ...             ...              ...   \n",
       "148  Central African Republic             NaN           3.4759   \n",
       "149                    Rwanda             NaN           3.3123   \n",
       "150                  Zimbabwe             NaN           3.2992   \n",
       "151               South Sudan             NaN           2.8166   \n",
       "152               Afghanistan             NaN           2.5669   \n",
       "\n",
       "     Economy (GDP per Capita)   Family  Health (Life Expectancy)   Freedom  \\\n",
       "0                    1.396510  1.34951                  0.941430  0.665570   \n",
       "1                    1.302320  1.40223                  0.947840  0.628770   \n",
       "2                    1.325480  1.36058                  0.874640  0.649380   \n",
       "3                    1.459000  1.33095                  0.885210  0.669730   \n",
       "4                    1.326290  1.32261                  0.905630  0.632970   \n",
       "..                        ...      ...                       ...       ...   \n",
       "148                  6.625160      NaN                 45.200001  0.640881   \n",
       "149                  7.600104      NaN                 61.098846  0.900589   \n",
       "150                  7.865712      NaN                 55.617260  0.711458   \n",
       "151                  7.425360      NaN                 51.000000  0.451314   \n",
       "152                  7.462861      NaN                 52.590000  0.396573   \n",
       "\n",
       "     Trust (Government Corruption)  Generosity  Dystopia Residual  Year  \\\n",
       "0                         0.419780    0.296780           2.517380  2015   \n",
       "1                         0.141450    0.436300           2.702010  2015   \n",
       "2                         0.483570    0.341390           2.492040  2015   \n",
       "3                         0.365030    0.346990           2.465310  2015   \n",
       "4                         0.329570    0.458110           2.451760  2015   \n",
       "..                             ...         ...                ...   ...   \n",
       "148                       0.891807    0.082410           2.860198  2020   \n",
       "149                       0.183541    0.055484           0.548445  2020   \n",
       "150                       0.810237   -0.072064           0.841031  2020   \n",
       "151                       0.763417    0.016519           1.378751  2020   \n",
       "152                       0.933687   -0.096429           1.507236  2020   \n",
       "\n",
       "     Social support  \n",
       "0               NaN  \n",
       "1               NaN  \n",
       "2               NaN  \n",
       "3               NaN  \n",
       "4               NaN  \n",
       "..              ...  \n",
       "148        0.319460  \n",
       "149        0.540835  \n",
       "150        0.763093  \n",
       "151        0.553707  \n",
       "152        0.470367  \n",
       "\n",
       "[935 rows x 12 columns]"
      ]
     },
     "execution_count": 127,
     "metadata": {},
     "output_type": "execute_result"
    }
   ],
   "source": [
    "# Describe your dataset\n",
    "\n",
    "\n",
    "csv2015['Year']=2015\n",
    "csv2016['Year']=2016\n",
    "csv2017['Year']=2017\n",
    "csv2018['Year']=2018\n",
    "csv2019['Year']=2019\n",
    "csv2020['Year']=2020\n",
    "\n",
    "frames = [csv2015,csv2016,csv2017,csv2018,csv2019,csv2020]\n",
    "\n",
    "happiness_df = pd.concat(frames)\n",
    "happiness_df"
   ]
  },
  {
   "cell_type": "code",
   "execution_count": null,
   "id": "czech-breakfast",
   "metadata": {},
   "outputs": [],
   "source": [
    "# Explore your dataset\n",
    "\n"
   ]
  },
  {
   "cell_type": "code",
   "execution_count": null,
   "id": "everyday-wiring",
   "metadata": {},
   "outputs": [],
   "source": [
    "# Initial thoughts"
   ]
  },
  {
   "cell_type": "code",
   "execution_count": null,
   "id": "phantom-evening",
   "metadata": {},
   "outputs": [],
   "source": [
    "# Reseach Questions"
   ]
  },
  {
   "cell_type": "code",
   "execution_count": null,
   "id": "naughty-business",
   "metadata": {},
   "outputs": [],
   "source": [
    "# Wrangling"
   ]
  },
  {
   "cell_type": "code",
   "execution_count": null,
   "id": "dutch-sending",
   "metadata": {},
   "outputs": [],
   "source": [
    "# Data analysis & visualizations"
   ]
  },
  {
   "cell_type": "code",
   "execution_count": null,
   "id": "latin-snapshot",
   "metadata": {},
   "outputs": [],
   "source": [
    "# Summary"
   ]
  },
  {
   "cell_type": "code",
   "execution_count": null,
   "id": "restricted-variation",
   "metadata": {},
   "outputs": [],
   "source": [
    "# Conclusions"
   ]
  }
 ],
 "metadata": {
  "kernelspec": {
   "display_name": "Python 3",
   "language": "python",
   "name": "python3"
  },
  "language_info": {
   "codemirror_mode": {
    "name": "ipython",
    "version": 3
   },
   "file_extension": ".py",
   "mimetype": "text/x-python",
   "name": "python",
   "nbconvert_exporter": "python",
   "pygments_lexer": "ipython3",
   "version": "3.8.6"
  }
 },
 "nbformat": 4,
 "nbformat_minor": 5
}
