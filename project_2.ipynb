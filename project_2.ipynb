{
 "cells": [
  {
   "cell_type": "code",
   "execution_count": 1,
   "id": "competent-accessory",
   "metadata": {},
   "outputs": [],
   "source": [
    "# load the dataset\n",
    "\n",
    "import pandas as pd\n",
    "\n",
    "\n",
    "\n",
    "\n",
    "\n",
    "\n"
   ]
  },
  {
   "source": [
    "# Data 550 Project 2\n",
    "###  Sophia Bulcock, Ryan Koenig\n",
    "### 09-02-2021"
   ],
   "cell_type": "markdown",
   "metadata": {}
  },
  {
   "cell_type": "code",
   "execution_count": null,
   "metadata": {},
   "outputs": [],
   "source": []
  },
  {
   "cell_type": "markdown",
   "id": "arranged-denmark",
   "metadata": {},
   "source": [
    "## Dataset Description\n",
    "\n",
    "This dataset is composed of six different csv files. Each file represents a \"Happiness\" report for the year, running from 2015 to 2020. The information provided is from the Gallup World Survey (GWP).  For each year various scores are given to each country based on the survey results and a resulting ranking is generated from these scores.  \n",
    "When looking at the indivdual columns of interest for this data set we have:\n",
    "\n",
    "- Country: The name of the country the scores apply to.\n",
    "- Year: The year the report was generated.\n",
    "- Happiness Rank: How that countries score compares to the others for that particular year.\n",
    "- Happiness Score: The national average of responses from the GWP by Cantril ladder questions.\n",
    "\n",
    "Each of the following columns are a bit of a black box as to how they are generated but they are a based upon how much it is thought they impact the happiness score. Adding them all together should give you the happiness score.\n",
    "\n",
    "- Economy (GDP per Capita): How much the countries economy is expected to contribute to the happiness of its populace.\n",
    "- Family: How much the countries family structure is expected to contribute to the happiness of its populace.\n",
    "- Health (Life Expectancy): How much the countries individual's health is expected to contribute to the happiness of its populace.\n",
    "- Freedom: How much the countries percieved freedoms are expected to contribute to the happiness of its populace.\n",
    "- Trust (Government Corruption): How much the countries percieved trust of the government are expected to contribute to the happiness of its populace.\n",
    "- Generosity: How much the countries percieved generosity are expected to contribute to the happiness of its populace.\n",
    "- Dystopia Residual: Dystopia residual is imagining\n",
    "- Social Support: How much the social support available in the country is expected to contribute to the happiness of its populace.\n",
    "\n",
    "For more information see: https://www.kaggle.com/mathurinache/world-happiness-report\n",
    "\n",
    "\n"
   ]
  },
  {
   "source": [
    "## Exploring the Data Set\n",
    "\n",
    "Lets take a look at the columns of each csv data set."
   ],
   "cell_type": "markdown",
   "metadata": {}
  },
  {
   "cell_type": "code",
   "execution_count": 2,
   "id": "everyday-friendly",
   "metadata": {},
   "outputs": [
    {
     "output_type": "stream",
     "name": "stdout",
     "text": [
      "['Country', 'Region', 'Happiness Rank', 'Happiness Score', 'Standard Error', 'Economy (GDP per Capita)', 'Family', 'Health (Life Expectancy)', 'Freedom', 'Trust (Government Corruption)', 'Generosity', 'Dystopia Residual']\n"
     ]
    }
   ],
   "source": [
    "csv2015= pd.read_csv('2015.csv')\n",
    "list2015=list(csv2015.columns.values) \n",
    "print(list2015)"
   ]
  },
  {
   "cell_type": "code",
   "execution_count": 3,
   "id": "atlantic-worry",
   "metadata": {},
   "outputs": [
    {
     "output_type": "stream",
     "name": "stdout",
     "text": [
      "['Country', 'Region', 'Happiness Rank', 'Happiness Score', 'Lower Confidence Interval', 'Upper Confidence Interval', 'Economy (GDP per Capita)', 'Family', 'Health (Life Expectancy)', 'Freedom', 'Trust (Government Corruption)', 'Generosity', 'Dystopia Residual']\n"
     ]
    }
   ],
   "source": [
    "csv2016=pd.read_csv('2016.csv')\n",
    "list2016=list(csv2016.columns.values) \n",
    "print(list2016)"
   ]
  },
  {
   "cell_type": "code",
   "execution_count": 4,
   "id": "imported-labor",
   "metadata": {},
   "outputs": [
    {
     "output_type": "stream",
     "name": "stdout",
     "text": [
      "['Country', 'Happiness.Rank', 'Happiness.Score', 'Whisker.high', 'Whisker.low', 'Economy..GDP.per.Capita.', 'Family', 'Health..Life.Expectancy.', 'Freedom', 'Generosity', 'Trust..Government.Corruption.', 'Dystopia.Residual']\n"
     ]
    }
   ],
   "source": [
    "csv2017=pd.read_csv('2017.csv')\n",
    "list2017=list(csv2017.columns.values) \n",
    "print(list2017)"
   ]
  },
  {
   "cell_type": "code",
   "execution_count": 5,
   "id": "hybrid-surprise",
   "metadata": {},
   "outputs": [
    {
     "output_type": "stream",
     "name": "stdout",
     "text": [
      "['Overall rank', 'Country or region', 'Score', 'GDP per capita', 'Social support', 'Healthy life expectancy', 'Freedom to make life choices', 'Generosity', 'Perceptions of corruption']\n"
     ]
    }
   ],
   "source": [
    "csv2018=pd.read_csv('2018.csv')\n",
    "list2018=list(csv2018.columns.values) \n",
    "print(list2018)"
   ]
  },
  {
   "cell_type": "code",
   "execution_count": 6,
   "id": "reserved-malta",
   "metadata": {},
   "outputs": [
    {
     "output_type": "stream",
     "name": "stdout",
     "text": [
      "['Overall rank', 'Country or region', 'Score', 'GDP per capita', 'Social support', 'Healthy life expectancy', 'Freedom to make life choices', 'Generosity', 'Perceptions of corruption']\n"
     ]
    }
   ],
   "source": [
    "csv2019=pd.read_csv('2019.csv')\n",
    "list2019=list(csv2019.columns.values) \n",
    "print(list2019)"
   ]
  },
  {
   "cell_type": "code",
   "execution_count": 7,
   "id": "current-limit",
   "metadata": {},
   "outputs": [
    {
     "output_type": "stream",
     "name": "stdout",
     "text": [
      "['Country name', 'Regional indicator', 'Ladder score', 'Standard error of ladder score', 'upperwhisker', 'lowerwhisker', 'Logged GDP per capita', 'Social support', 'Healthy life expectancy', 'Freedom to make life choices', 'Generosity', 'Perceptions of corruption', 'Ladder score in Dystopia', 'Explained by: Log GDP per capita', 'Explained by: Social support', 'Explained by: Healthy life expectancy', 'Explained by: Freedom to make life choices', 'Explained by: Generosity', 'Explained by: Perceptions of corruption', 'Dystopia + residual']\n"
     ]
    }
   ],
   "source": [
    "csv2020=pd.read_csv('2020.csv')\n",
    "list2020=list(csv2020.columns.values) \n",
    "print(list2020)"
   ]
  },
  {
   "source": [
    "Now lets take a look at the last 5 rows of each data set."
   ],
   "cell_type": "markdown",
   "metadata": {}
  },
  {
   "cell_type": "code",
   "execution_count": 8,
   "id": "vietnamese-negative",
   "metadata": {},
   "outputs": [
    {
     "output_type": "stream",
     "name": "stdout",
     "text": [
      "     Country                           Region  Happiness Rank  \\\n153   Rwanda               Sub-Saharan Africa             154   \n154    Benin               Sub-Saharan Africa             155   \n155    Syria  Middle East and Northern Africa             156   \n156  Burundi               Sub-Saharan Africa             157   \n157     Togo               Sub-Saharan Africa             158   \n\n     Happiness Score  Standard Error  Economy (GDP per Capita)   Family  \\\n153            3.465         0.03464                   0.22208  0.77370   \n154            3.340         0.03656                   0.28665  0.35386   \n155            3.006         0.05015                   0.66320  0.47489   \n156            2.905         0.08658                   0.01530  0.41587   \n157            2.839         0.06727                   0.20868  0.13995   \n\n     Health (Life Expectancy)  Freedom  Trust (Government Corruption)  \\\n153                   0.42864  0.59201                        0.55191   \n154                   0.31910  0.48450                        0.08010   \n155                   0.72193  0.15684                        0.18906   \n156                   0.22396  0.11850                        0.10062   \n157                   0.28443  0.36453                        0.10731   \n\n     Generosity  Dystopia Residual  \n153     0.22628            0.67042  \n154     0.18260            1.63328  \n155     0.47179            0.32858  \n156     0.19727            1.83302  \n157     0.16681            1.56726  \n         Country                           Region  Happiness Rank  \\\n152        Benin               Sub-Saharan Africa             153   \n153  Afghanistan                    Southern Asia             154   \n154         Togo               Sub-Saharan Africa             155   \n155        Syria  Middle East and Northern Africa             156   \n156      Burundi               Sub-Saharan Africa             157   \n\n     Happiness Score  Lower Confidence Interval  Upper Confidence Interval  \\\n152            3.484                      3.404                      3.564   \n153            3.360                      3.288                      3.432   \n154            3.303                      3.192                      3.414   \n155            3.069                      2.936                      3.202   \n156            2.905                      2.732                      3.078   \n\n     Economy (GDP per Capita)   Family  Health (Life Expectancy)  Freedom  \\\n152                   0.39499  0.10419                   0.21028  0.39747   \n153                   0.38227  0.11037                   0.17344  0.16430   \n154                   0.28123  0.00000                   0.24811  0.34678   \n155                   0.74719  0.14866                   0.62994  0.06912   \n156                   0.06831  0.23442                   0.15747  0.04320   \n\n     Trust (Government Corruption)  Generosity  Dystopia Residual  \n152                        0.06681     0.20180            2.10812  \n153                        0.07112     0.31268            2.14558  \n154                        0.11587     0.17517            2.13540  \n155                        0.17233     0.48397            0.81789  \n156                        0.09419     0.20290            2.10404  \n                      Country  Happiness.Rank  Happiness.Score  Whisker.high  \\\n150                    Rwanda             151            3.471      3.543030   \n151                     Syria             152            3.462      3.663669   \n152                  Tanzania             153            3.349      3.461430   \n153                   Burundi             154            2.905      3.074690   \n154  Central African Republic             155            2.693      2.864884   \n\n     Whisker.low  Economy..GDP.per.Capita.    Family  \\\n150     3.398970                  0.368746  0.945707   \n151     3.260331                  0.777153  0.396103   \n152     3.236570                  0.511136  1.041990   \n153     2.735310                  0.091623  0.629794   \n154     2.521116                  0.000000  0.000000   \n\n     Health..Life.Expectancy.   Freedom  Generosity  \\\n150                  0.326425  0.581844    0.252756   \n151                  0.500533  0.081539    0.493664   \n152                  0.364509  0.390018    0.354256   \n153                  0.151611  0.059901    0.204435   \n154                  0.018773  0.270842    0.280876   \n\n     Trust..Government.Corruption.  Dystopia.Residual  \n150                       0.455220           0.540061  \n151                       0.151347           1.061574  \n152                       0.066035           0.621130  \n153                       0.084148           1.683024  \n154                       0.056565           2.066005  \n     Overall rank         Country or region  Score  GDP per capita  \\\n151           152                     Yemen  3.355           0.442   \n152           153                  Tanzania  3.303           0.455   \n153           154               South Sudan  3.254           0.337   \n154           155  Central African Republic  3.083           0.024   \n155           156                   Burundi  2.905           0.091   \n\n     Social support  Healthy life expectancy  Freedom to make life choices  \\\n151           1.073                    0.343                         0.244   \n152           0.991                    0.381                         0.481   \n153           0.608                    0.177                         0.112   \n154           0.000                    0.010                         0.305   \n155           0.627                    0.145                         0.065   \n\n     Generosity  Perceptions of corruption  \n151       0.083                      0.064  \n152       0.270                      0.097  \n153       0.224                      0.106  \n154       0.218                      0.038  \n155       0.149                      0.076  \n     Overall rank         Country or region  Score  GDP per capita  \\\n151           152                    Rwanda  3.334           0.359   \n152           153                  Tanzania  3.231           0.476   \n153           154               Afghanistan  3.203           0.350   \n154           155  Central African Republic  3.083           0.026   \n155           156               South Sudan  2.853           0.306   \n\n     Social support  Healthy life expectancy  Freedom to make life choices  \\\n151           0.711                    0.614                         0.555   \n152           0.885                    0.499                         0.417   \n153           0.517                    0.361                         0.000   \n154           0.000                    0.105                         0.225   \n155           0.575                    0.295                         0.010   \n\n     Generosity  Perceptions of corruption  \n151       0.217                      0.411  \n152       0.276                      0.147  \n153       0.158                      0.025  \n154       0.235                      0.035  \n155       0.202                      0.091  \n                 Country name  Regional indicator  Ladder score  \\\n148  Central African Republic  Sub-Saharan Africa        3.4759   \n149                    Rwanda  Sub-Saharan Africa        3.3123   \n150                  Zimbabwe  Sub-Saharan Africa        3.2992   \n151               South Sudan  Sub-Saharan Africa        2.8166   \n152               Afghanistan          South Asia        2.5669   \n\n     Standard error of ladder score  upperwhisker  lowerwhisker  \\\n148                        0.115183      3.701658      3.250141   \n149                        0.052425      3.415053      3.209547   \n150                        0.058674      3.414202      3.184198   \n151                        0.107610      3.027516      2.605684   \n152                        0.031311      2.628270      2.505530   \n\n     Logged GDP per capita  Social support  Healthy life expectancy  \\\n148               6.625160        0.319460                45.200001   \n149               7.600104        0.540835                61.098846   \n150               7.865712        0.763093                55.617260   \n151               7.425360        0.553707                51.000000   \n152               7.462861        0.470367                52.590000   \n\n     Freedom to make life choices  Generosity  Perceptions of corruption  \\\n148                      0.640881    0.082410                   0.891807   \n149                      0.900589    0.055484                   0.183541   \n150                      0.711458   -0.072064                   0.810237   \n151                      0.451314    0.016519                   0.763417   \n152                      0.396573   -0.096429                   0.933687   \n\n     Ladder score in Dystopia  Explained by: Log GDP per capita  \\\n148                  1.972317                          0.041072   \n149                  1.972317                          0.343243   \n150                  1.972317                          0.425564   \n151                  1.972317                          0.289083   \n152                  1.972317                          0.300706   \n\n     Explained by: Social support  Explained by: Healthy life expectancy  \\\n148                      0.000000                               0.000000   \n149                      0.522876                               0.572383   \n150                      1.047835                               0.375038   \n151                      0.553279                               0.208809   \n152                      0.356434                               0.266052   \n\n     Explained by: Freedom to make life choices  Explained by: Generosity  \\\n148                                    0.292814                  0.253513   \n149                                    0.604088                  0.235705   \n150                                    0.377405                  0.151349   \n151                                    0.065609                  0.209935   \n152                                    0.000000                  0.135235   \n\n     Explained by: Perceptions of corruption  Dystopia + residual  \n148                                 0.028265             2.860198  \n149                                 0.485542             0.548445  \n150                                 0.080929             0.841031  \n151                                 0.111157             1.378751  \n152                                 0.001226             1.507236  \n"
     ]
    }
   ],
   "source": [
    "# exploring last 5 rows of each of the data sets\n",
    "\n",
    "print(csv2015.tail())\n",
    "print(csv2016.tail())\n",
    "print(csv2017.tail())\n",
    "print(csv2018.tail())\n",
    "print(csv2019.tail())\n",
    "print(csv2020.tail())"
   ]
  },
  {
   "source": [
    "Number of rows in each csv data set."
   ],
   "cell_type": "markdown",
   "metadata": {}
  },
  {
   "cell_type": "code",
   "execution_count": 9,
   "id": "visible-navigator",
   "metadata": {},
   "outputs": [
    {
     "output_type": "stream",
     "name": "stdout",
     "text": [
      "158\n157\n155\n156\n156\n153\n"
     ]
    }
   ],
   "source": [
    "# count number of rows in each data frame\n",
    "\n",
    "print(csv2015.shape[0])\n",
    "print(csv2016.shape[0])\n",
    "print(csv2017.shape[0])\n",
    "print(csv2018.shape[0])\n",
    "print(csv2019.shape[0])\n",
    "print(csv2020.shape[0])\n"
   ]
  },
  {
   "source": [
    "Lets verify that all the numbers columns are numeric."
   ],
   "cell_type": "markdown",
   "metadata": {}
  },
  {
   "cell_type": "code",
   "execution_count": 10,
   "id": "inclusive-deadline",
   "metadata": {},
   "outputs": [
    {
     "output_type": "stream",
     "name": "stdout",
     "text": [
      "Country                           object\nRegion                            object\nHappiness Rank                     int64\nHappiness Score                  float64\nStandard Error                   float64\nEconomy (GDP per Capita)         float64\nFamily                           float64\nHealth (Life Expectancy)         float64\nFreedom                          float64\nTrust (Government Corruption)    float64\nGenerosity                       float64\nDystopia Residual                float64\ndtype: object\nCountry                           object\nRegion                            object\nHappiness Rank                     int64\nHappiness Score                  float64\nLower Confidence Interval        float64\nUpper Confidence Interval        float64\nEconomy (GDP per Capita)         float64\nFamily                           float64\nHealth (Life Expectancy)         float64\nFreedom                          float64\nTrust (Government Corruption)    float64\nGenerosity                       float64\nDystopia Residual                float64\ndtype: object\nCountry                           object\nHappiness.Rank                     int64\nHappiness.Score                  float64\nWhisker.high                     float64\nWhisker.low                      float64\nEconomy..GDP.per.Capita.         float64\nFamily                           float64\nHealth..Life.Expectancy.         float64\nFreedom                          float64\nGenerosity                       float64\nTrust..Government.Corruption.    float64\nDystopia.Residual                float64\ndtype: object\nOverall rank                      int64\nCountry or region                object\nScore                           float64\nGDP per capita                  float64\nSocial support                  float64\nHealthy life expectancy         float64\nFreedom to make life choices    float64\nGenerosity                      float64\nPerceptions of corruption       float64\ndtype: object\nOverall rank                      int64\nCountry or region                object\nScore                           float64\nGDP per capita                  float64\nSocial support                  float64\nHealthy life expectancy         float64\nFreedom to make life choices    float64\nGenerosity                      float64\nPerceptions of corruption       float64\ndtype: object\nCountry name                                   object\nRegional indicator                             object\nLadder score                                  float64\nStandard error of ladder score                float64\nupperwhisker                                  float64\nlowerwhisker                                  float64\nLogged GDP per capita                         float64\nSocial support                                float64\nHealthy life expectancy                       float64\nFreedom to make life choices                  float64\nGenerosity                                    float64\nPerceptions of corruption                     float64\nLadder score in Dystopia                      float64\nExplained by: Log GDP per capita              float64\nExplained by: Social support                  float64\nExplained by: Healthy life expectancy         float64\nExplained by: Freedom to make life choices    float64\nExplained by: Generosity                      float64\nExplained by: Perceptions of corruption       float64\nDystopia + residual                           float64\ndtype: object\n"
     ]
    }
   ],
   "source": [
    "# exploring data frame types\n",
    "\n",
    "print(csv2015.dtypes)\n",
    "print(csv2016.dtypes)\n",
    "print(csv2017.dtypes)\n",
    "print(csv2018.dtypes)\n",
    "print(csv2019.dtypes)\n",
    "print(csv2020.dtypes)\n"
   ]
  },
  {
   "cell_type": "markdown",
   "id": "jewish-tomato",
   "metadata": {},
   "source": [
    "## Initial Observations\n",
    "\n",
    "1. This data set contains 6 seperate CSV files for the the happiness reports from 2015-2020. \n",
    "2. Each CSV file does not contain the exact same rows. Some have additional columns, and others seem to be missing some columns that other years have. This will be taken care of in the wrangling section where we filter and combine them into 1 large data frame with the a 'Year' column added.\n",
    "3. Each of the 6 individual data frames has approximately the same amount of observations/rows"
   ]
  },
  {
   "cell_type": "markdown",
   "id": "political-carbon",
   "metadata": {},
   "source": [
    "## Research questions\n",
    "\n",
    "1. What are the effects of a countries economy and level government trust on their happiness scores. Does this relationship change over time or stay the same?\n",
    "\n",
    "2. "
   ]
  },
  {
   "source": [
    "## Wrangling"
   ],
   "cell_type": "markdown",
   "metadata": {}
  },
  {
   "cell_type": "code",
   "execution_count": 11,
   "id": "political-glucose",
   "metadata": {},
   "outputs": [],
   "source": [
    "# wrangling into 1 usable data frame\n",
    "\n",
    "# drop columns not needed and found in all data frames\n",
    "csv2015=csv2015.drop(['Region','Standard Error'], axis=1)\n",
    "\n",
    "csv2016=csv2016.drop(['Region'], axis=1)\n",
    "\n",
    "csv2016=csv2016.drop(['Lower Confidence Interval','Upper Confidence Interval'], axis=1)\n",
    "\n",
    "csv2017=csv2017.drop(['Whisker.high', 'Whisker.low'],axis=1)\n",
    "\n",
    "csv2018=csv2018.drop(['Social support'], axis=1)\n",
    "\n",
    "csv2020=csv2020.drop(['Regional indicator','Standard error of ladder score',\n",
    "                     'upperwhisker','lowerwhisker','Ladder score in Dystopia',\n",
    "                     'Explained by: Log GDP per capita','Explained by: Social support',\n",
    "                     'Explained by: Healthy life expectancy','Explained by: Freedom to make life choices',\n",
    "                     'Explained by: Generosity','Explained by: Perceptions of corruption'], axis=1)\n",
    "\n"
   ]
  },
  {
   "cell_type": "code",
   "execution_count": 12,
   "id": "traditional-composer",
   "metadata": {},
   "outputs": [],
   "source": [
    "#renaming columns so all data frames share column names\n",
    "csv2017=csv2017.rename(columns={'Happiness.Rank': 'Happiness Rank', \n",
    "                                   'Happiness.Score': 'Happiness Score',\n",
    "                                   'Economy..GDP.per.Capita.':'Economy (GDP per Capita)',\n",
    "                                   'Health..Life.Expectancy.':'Health (Life Expectancy)',\n",
    "                                   'Trust..Government.Corruption.':'Trust (Government Corruption)',\n",
    "                                   'Dystopia.Residual':'Dystopia Residual'})\n",
    "\n",
    "csv2018=csv2018.rename(columns={'Overall rank': 'Happiness Rank','Country or region':'Country',\n",
    "                                'Score':'Happiness Score','GDP per capita':'Economy (GDP per Capita)',\n",
    "                                'Healthy life expectancy':'Health (Life Expectancy)',\n",
    "                                'Freedom to make life choices':'Freedom',\n",
    "                                'Perceptions of corruption':'Trust (Government Corruption)'})\n",
    "\n",
    "csv2019=csv2019.rename(columns={'Overall rank': 'Happiness Rank','Country or region':'Country',\n",
    "                                'Score':'Happiness Score','GDP per capita':'Economy (GDP per Capita)',\n",
    "                                'Healthy life expectancy':'Health (Life Expectancy)',\n",
    "                                'Freedom to make life choices':'Freedom',\n",
    "                                'Trust..Government.Corruption.':'Trust (Government Corruption)',\n",
    "                                'Perceptions of corruption':'Trust (Government Corruption)'})\n",
    "\n",
    "csv2020=csv2020.rename(columns={'Country name':'Country', 'Ladder score':'Happiness Score',\n",
    "                              'Logged GDP per capita':'Economy (GDP per Capita)',\n",
    "                              'Healthy life expectancy':'Health (Life Expectancy)',\n",
    "                               'Freedom to make life choices':'Freedom',\n",
    "                               'Perceptions of corruption':'Trust (Government Corruption)',\n",
    "                               'Dystopia + residual':'Dystopia Residual'\n",
    "                              })\n",
    "\n",
    "                                \n",
    "                                "
   ]
  },
  {
   "cell_type": "code",
   "execution_count": 13,
   "id": "medieval-salvation",
   "metadata": {},
   "outputs": [
    {
     "output_type": "execute_result",
     "data": {
      "text/plain": [
       "                      Country  Happiness Rank  Happiness Score  \\\n",
       "0                 Switzerland             1.0           7.5870   \n",
       "1                     Iceland             2.0           7.5610   \n",
       "2                     Denmark             3.0           7.5270   \n",
       "3                      Norway             4.0           7.5220   \n",
       "4                      Canada             5.0           7.4270   \n",
       "..                        ...             ...              ...   \n",
       "148  Central African Republic             NaN           3.4759   \n",
       "149                    Rwanda             NaN           3.3123   \n",
       "150                  Zimbabwe             NaN           3.2992   \n",
       "151               South Sudan             NaN           2.8166   \n",
       "152               Afghanistan             NaN           2.5669   \n",
       "\n",
       "     Economy (GDP per Capita)   Family  Health (Life Expectancy)   Freedom  \\\n",
       "0                    1.396510  1.34951                  0.941430  0.665570   \n",
       "1                    1.302320  1.40223                  0.947840  0.628770   \n",
       "2                    1.325480  1.36058                  0.874640  0.649380   \n",
       "3                    1.459000  1.33095                  0.885210  0.669730   \n",
       "4                    1.326290  1.32261                  0.905630  0.632970   \n",
       "..                        ...      ...                       ...       ...   \n",
       "148                  6.625160      NaN                 45.200001  0.640881   \n",
       "149                  7.600104      NaN                 61.098846  0.900589   \n",
       "150                  7.865712      NaN                 55.617260  0.711458   \n",
       "151                  7.425360      NaN                 51.000000  0.451314   \n",
       "152                  7.462861      NaN                 52.590000  0.396573   \n",
       "\n",
       "     Trust (Government Corruption)  Generosity  Dystopia Residual  Year  \\\n",
       "0                         0.419780    0.296780           2.517380  2015   \n",
       "1                         0.141450    0.436300           2.702010  2015   \n",
       "2                         0.483570    0.341390           2.492040  2015   \n",
       "3                         0.365030    0.346990           2.465310  2015   \n",
       "4                         0.329570    0.458110           2.451760  2015   \n",
       "..                             ...         ...                ...   ...   \n",
       "148                       0.891807    0.082410           2.860198  2020   \n",
       "149                       0.183541    0.055484           0.548445  2020   \n",
       "150                       0.810237   -0.072064           0.841031  2020   \n",
       "151                       0.763417    0.016519           1.378751  2020   \n",
       "152                       0.933687   -0.096429           1.507236  2020   \n",
       "\n",
       "     Social support  \n",
       "0               NaN  \n",
       "1               NaN  \n",
       "2               NaN  \n",
       "3               NaN  \n",
       "4               NaN  \n",
       "..              ...  \n",
       "148        0.319460  \n",
       "149        0.540835  \n",
       "150        0.763093  \n",
       "151        0.553707  \n",
       "152        0.470367  \n",
       "\n",
       "[935 rows x 12 columns]"
      ],
      "text/html": "<div>\n<style scoped>\n    .dataframe tbody tr th:only-of-type {\n        vertical-align: middle;\n    }\n\n    .dataframe tbody tr th {\n        vertical-align: top;\n    }\n\n    .dataframe thead th {\n        text-align: right;\n    }\n</style>\n<table border=\"1\" class=\"dataframe\">\n  <thead>\n    <tr style=\"text-align: right;\">\n      <th></th>\n      <th>Country</th>\n      <th>Happiness Rank</th>\n      <th>Happiness Score</th>\n      <th>Economy (GDP per Capita)</th>\n      <th>Family</th>\n      <th>Health (Life Expectancy)</th>\n      <th>Freedom</th>\n      <th>Trust (Government Corruption)</th>\n      <th>Generosity</th>\n      <th>Dystopia Residual</th>\n      <th>Year</th>\n      <th>Social support</th>\n    </tr>\n  </thead>\n  <tbody>\n    <tr>\n      <th>0</th>\n      <td>Switzerland</td>\n      <td>1.0</td>\n      <td>7.5870</td>\n      <td>1.396510</td>\n      <td>1.34951</td>\n      <td>0.941430</td>\n      <td>0.665570</td>\n      <td>0.419780</td>\n      <td>0.296780</td>\n      <td>2.517380</td>\n      <td>2015</td>\n      <td>NaN</td>\n    </tr>\n    <tr>\n      <th>1</th>\n      <td>Iceland</td>\n      <td>2.0</td>\n      <td>7.5610</td>\n      <td>1.302320</td>\n      <td>1.40223</td>\n      <td>0.947840</td>\n      <td>0.628770</td>\n      <td>0.141450</td>\n      <td>0.436300</td>\n      <td>2.702010</td>\n      <td>2015</td>\n      <td>NaN</td>\n    </tr>\n    <tr>\n      <th>2</th>\n      <td>Denmark</td>\n      <td>3.0</td>\n      <td>7.5270</td>\n      <td>1.325480</td>\n      <td>1.36058</td>\n      <td>0.874640</td>\n      <td>0.649380</td>\n      <td>0.483570</td>\n      <td>0.341390</td>\n      <td>2.492040</td>\n      <td>2015</td>\n      <td>NaN</td>\n    </tr>\n    <tr>\n      <th>3</th>\n      <td>Norway</td>\n      <td>4.0</td>\n      <td>7.5220</td>\n      <td>1.459000</td>\n      <td>1.33095</td>\n      <td>0.885210</td>\n      <td>0.669730</td>\n      <td>0.365030</td>\n      <td>0.346990</td>\n      <td>2.465310</td>\n      <td>2015</td>\n      <td>NaN</td>\n    </tr>\n    <tr>\n      <th>4</th>\n      <td>Canada</td>\n      <td>5.0</td>\n      <td>7.4270</td>\n      <td>1.326290</td>\n      <td>1.32261</td>\n      <td>0.905630</td>\n      <td>0.632970</td>\n      <td>0.329570</td>\n      <td>0.458110</td>\n      <td>2.451760</td>\n      <td>2015</td>\n      <td>NaN</td>\n    </tr>\n    <tr>\n      <th>...</th>\n      <td>...</td>\n      <td>...</td>\n      <td>...</td>\n      <td>...</td>\n      <td>...</td>\n      <td>...</td>\n      <td>...</td>\n      <td>...</td>\n      <td>...</td>\n      <td>...</td>\n      <td>...</td>\n      <td>...</td>\n    </tr>\n    <tr>\n      <th>148</th>\n      <td>Central African Republic</td>\n      <td>NaN</td>\n      <td>3.4759</td>\n      <td>6.625160</td>\n      <td>NaN</td>\n      <td>45.200001</td>\n      <td>0.640881</td>\n      <td>0.891807</td>\n      <td>0.082410</td>\n      <td>2.860198</td>\n      <td>2020</td>\n      <td>0.319460</td>\n    </tr>\n    <tr>\n      <th>149</th>\n      <td>Rwanda</td>\n      <td>NaN</td>\n      <td>3.3123</td>\n      <td>7.600104</td>\n      <td>NaN</td>\n      <td>61.098846</td>\n      <td>0.900589</td>\n      <td>0.183541</td>\n      <td>0.055484</td>\n      <td>0.548445</td>\n      <td>2020</td>\n      <td>0.540835</td>\n    </tr>\n    <tr>\n      <th>150</th>\n      <td>Zimbabwe</td>\n      <td>NaN</td>\n      <td>3.2992</td>\n      <td>7.865712</td>\n      <td>NaN</td>\n      <td>55.617260</td>\n      <td>0.711458</td>\n      <td>0.810237</td>\n      <td>-0.072064</td>\n      <td>0.841031</td>\n      <td>2020</td>\n      <td>0.763093</td>\n    </tr>\n    <tr>\n      <th>151</th>\n      <td>South Sudan</td>\n      <td>NaN</td>\n      <td>2.8166</td>\n      <td>7.425360</td>\n      <td>NaN</td>\n      <td>51.000000</td>\n      <td>0.451314</td>\n      <td>0.763417</td>\n      <td>0.016519</td>\n      <td>1.378751</td>\n      <td>2020</td>\n      <td>0.553707</td>\n    </tr>\n    <tr>\n      <th>152</th>\n      <td>Afghanistan</td>\n      <td>NaN</td>\n      <td>2.5669</td>\n      <td>7.462861</td>\n      <td>NaN</td>\n      <td>52.590000</td>\n      <td>0.396573</td>\n      <td>0.933687</td>\n      <td>-0.096429</td>\n      <td>1.507236</td>\n      <td>2020</td>\n      <td>0.470367</td>\n    </tr>\n  </tbody>\n</table>\n<p>935 rows × 12 columns</p>\n</div>"
     },
     "metadata": {},
     "execution_count": 13
    }
   ],
   "source": [
    "# make into 1 data set\n",
    "\n",
    "\n",
    "csv2015['Year']=2015\n",
    "csv2016['Year']=2016\n",
    "csv2017['Year']=2017\n",
    "csv2018['Year']=2018\n",
    "csv2019['Year']=2019\n",
    "csv2020['Year']=2020\n",
    "\n",
    "frames = [csv2015,csv2016,csv2017,csv2018,csv2019,csv2020]\n",
    "\n",
    "happiness_df = pd.concat(frames)\n",
    "happiness_df"
   ]
  },
  {
   "source": [
    "## Data analysis & visualizations"
   ],
   "cell_type": "markdown",
   "metadata": {}
  },
  {
   "source": [
    "## Summary"
   ],
   "cell_type": "markdown",
   "metadata": {}
  },
  {
   "source": [
    "## Conclusions"
   ],
   "cell_type": "markdown",
   "metadata": {}
  }
 ],
 "metadata": {
  "kernelspec": {
   "display_name": "Python 3",
   "language": "python",
   "name": "python3"
  },
  "language_info": {
   "codemirror_mode": {
    "name": "ipython",
    "version": 3
   },
   "file_extension": ".py",
   "mimetype": "text/x-python",
   "name": "python",
   "nbconvert_exporter": "python",
   "pygments_lexer": "ipython3",
   "version": "3.8.3-final"
  }
 },
 "nbformat": 4,
 "nbformat_minor": 5
}